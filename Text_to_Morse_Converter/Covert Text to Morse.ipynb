{
 "cells": [
  {
   "cell_type": "code",
   "execution_count": 17,
   "id": "15bc745a",
   "metadata": {},
   "outputs": [
    {
     "name": "stdout",
     "output_type": "stream",
     "text": [
      "●■●●   ■■■   ●■●   ●   ■■             ●●   ●■■●   ●●●   ●●■   ■■             ●●   ●●●             ●●●   ●●   ■■   ●■■●   ●■●●   ■●■■             ■●●   ●●■   ■■   ■■   ■●■■             ■   ●   ■             ■■■   ●●■●             ■   ●●●●   ●             ●■■●   ●■●   ●●   ■●   ■   ●●   ■●   ■■●             ●■   ■●   ■●●             ■   ■●■■   ●■■●   ●   ●●●   ●   ■   ■   ●●   ■●   ■■●             ●●   ■●   ■●●   ●●■   ●●●   ■   ●■●   ■●■■   ●■●■●■             ●■●●   ■■■   ●■●   ●   ■■             ●●   ●■■●   ●●●   ●●■   ■■             ●●●●   ●■   ●●●             ■●●●   ●   ●   ■●             ■   ●●●●   ●             ●●   ■●   ■●●   ●●■   ●●●   ■   ●■●   ■●■■   ●■■■■●   ●●●             ●●●   ■   ●■   ■●   ■●●   ●■   ●■●   ■●●             ■●●   ●●■   ■■   ■■   ■●■■             ■   ●   ■             ●   ●●●■   ●   ●■●             ●●●   ●●   ■●   ■●■●   ●             ■   ●●●●   ●             ●■■■■   ●●●●●   ■■■■■   ■■■■■   ●●●   ■■●●■■             ●■■   ●●●●   ●   ■●             ●■   ■●             ●●■   ■●   ■●■   ■●   ■■■   ●■■   ■●             ●■■●   ●■●   ●●   ■●   ■   ●   ●■●             ■   ■■■   ■■■   ■●■             ●■             ■■●   ●■   ●■●●   ●■●●   ●   ■●■■             ■■■   ●●■●             ■   ■●■■   ●■■●   ●             ●■   ■●   ■●●             ●●●   ■●■●   ●■●   ●■   ■■   ■●●●   ●■●●   ●   ■●●             ●●   ■             ■   ■■■             ■■   ●■   ■●■   ●             ●■             ■   ■●■■   ●■■●   ●             ●●●   ●■■●   ●   ■●■●   ●●   ■■   ●   ■●             ■●●●   ■■■   ■■■   ■●■   ●■●■●■             ●●   ■             ●●●●   ●■   ●●●             ●●●   ●●■   ●■●   ●●●■   ●●   ●●●■   ●   ■●●             ■●   ■■■   ■             ■■■   ■●   ●■●●   ■●■■             ●●■●   ●●   ●●●■   ●             ■●■●   ●   ■●   ■   ●●■   ●■●   ●●   ●   ●●●   ■■●●■■             ■●●●   ●●■   ■             ●■   ●■●●   ●●●   ■■■             ■   ●●●●   ●             ●■●●   ●   ●■   ●■■●             ●●   ■●   ■   ■■■             ●   ●■●●   ●   ■●■●   ■   ●■●   ■■■   ■●   ●●   ■●■●             ■   ■●■■   ●■■●   ●   ●●●   ●   ■   ■   ●●   ■●   ■■●   ■■●●■■             ●■●   ●   ■■   ●■   ●●   ■●   ●●   ■●   ■■●             ●   ●●●   ●●●   ●   ■●   ■   ●●   ●■   ●■●●   ●■●●   ■●■■             ●●■   ■●   ■●■●   ●●●●   ●■   ■●   ■■●   ●   ■●●   ●■●■●■             ●●   ■             ●■■   ●■   ●●●             ●■■●   ■■■   ●■■●   ●●■   ●■●●   ●■   ●■●   ●●   ●●●   ●   ■●●             ●●   ■●             ■   ●●●●   ●             ●■■■■   ■■■■●   ■●●●●   ■■■■■   ●●●             ●■■   ●●   ■   ●●●●             ■   ●●●●   ●             ●■●   ●   ●■●●   ●   ●■   ●●●   ●             ■■■   ●●■●             ●■●●   ●   ■   ●■●   ●■   ●●●   ●   ■             ●●●   ●●●●   ●   ●   ■   ●●●             ■●■●   ■■■   ■●   ■   ●■   ●●   ■●   ●●   ■●   ■■●             ●■●●   ■■■   ●■●   ●   ■■             ●●   ●■■●   ●●●   ●●■   ■■             ●■■●   ●■   ●●●   ●●●   ●■   ■■●   ●   ●●●   ■■●●■■             ●■   ■●   ■●●             ■■   ■■■   ●■●   ●             ●■●   ●   ■●■●   ●   ■●   ■   ●■●●   ■●■■             ●■■   ●●   ■   ●●●●             ■●●   ●   ●●●   ■●■   ■   ■■■   ●■■●             ●■■●   ●●■   ■●●●   ●■●●   ●●   ●●●   ●●●●   ●●   ■●   ■■●             ●●●   ■■■   ●●■●   ■   ●■■   ●■   ●■●   ●             ●■●●   ●●   ■●■   ●             ●■   ●■●●   ■●●   ●●■   ●●●             ●■■●   ●■   ■■●   ●   ■■   ●■   ■●■   ●   ●■●             ●●   ■●   ■●■●   ●■●●   ●●■   ■●●   ●●   ■●   ■■●             ●●●■   ●   ●■●   ●●●   ●●   ■■■   ■●   ●●●             ■■■   ●●■●             ●■●●   ■■■   ●■●   ●   ■■             ●●   ●■■●   ●●●   ●●■   ■■   ●■●■●■   \n"
     ]
    }
   ],
   "source": [
    "from morse import Morse\n",
    "morse_converter = Morse()\n",
    "my_Text = \"Lorem Ipsum is simply dummy text of the printing and typesetting industry. Lorem Ipsum has been the industry's standard dummy text ever since the 1500s, when an unknown printer took a galley of type and scrambled it to make a type specimen book. It has survived not only five centuries, but also the leap into electronic typesetting, remaining essentially unchanged. It was popularised in the 1960s with the release of Letraset sheets containing Lorem Ipsum passages, and more recently with desktop publishing software like Aldus PageMaker including versions of Lorem Ipsum.\"\n",
    "print(morse_converter.convert_to_morse(my_Text))"
   ]
  }
 ],
 "metadata": {
  "kernelspec": {
   "display_name": "Python 3 (ipykernel)",
   "language": "python",
   "name": "python3"
  },
  "language_info": {
   "codemirror_mode": {
    "name": "ipython",
    "version": 3
   },
   "file_extension": ".py",
   "mimetype": "text/x-python",
   "name": "python",
   "nbconvert_exporter": "python",
   "pygments_lexer": "ipython3",
   "version": "3.9.12"
  }
 },
 "nbformat": 4,
 "nbformat_minor": 5
}
