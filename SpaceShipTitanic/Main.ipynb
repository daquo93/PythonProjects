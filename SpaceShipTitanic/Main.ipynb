{
 "cells": [
  {
   "cell_type": "markdown",
   "id": "99c9625e",
   "metadata": {},
   "source": [
    "## Dataset Description\n",
    "<p>\n",
    "In this competition your task is to predict whether a passenger was transported to an alternate dimension during the Spaceship Titanic's collision with the spacetime anomaly. To help you make these predictions, you're given a set of personal records recovered from the ship's damaged computer system.\n",
    "</p>\n",
    "\n",
    "File and Data Field Descriptions\n",
    "\n",
    "train.csv - Personal records for about two-thirds (~8700) of the passengers, to be used as training data.\n",
    "* PassengerId - A unique Id for each passenger. Each Id takes the form gggg_pp where gggg indicates a group the passenger is travelling with and pp is their number within the group. People in a group are often family members, but not always.\n",
    "* HomePlanet - The planet the passenger departed from, typically their planet of permanent residence.\n",
    "* CryoSleep - Indicates whether the passenger elected to be put into suspended animation for the duration of the voyage. Passengers in cryosleep are confined to their cabins.\n",
    "* Cabin - The cabin number where the passenger is staying. Takes the form deck/num/side, where side can be either P for Port or S for Starboard.\n",
    "* Destination - The planet the passenger will be debarking to.\n",
    "* Age - The age of the passenger.\n",
    "* VIP - Whether the passenger has paid for special VIP service during the voyage.\n",
    "* RoomService, FoodCourt, ShoppingMall, Spa, VRDeck - Amount the passenger has billed at each of the Spaceship Titanic's many luxury amenities.\n",
    "* Name - The first and last names of the passenger.\n",
    "* Transported - Whether the passenger was transported to another dimension. This is the target, the column you are trying to predict.\n",
    "\n",
    "test.csv - Personal records for the remaining one-third (~4300) of the passengers, to be used as test data. Your task is to predict the value of Transported for the passengers in this set.\n",
    "sample_submission.csv - A submission file in the correct format.\n",
    "* PassengerId - Id for each passenger in the test set.\n",
    "* Transported - The target. For each passenger, predict either True or False."
   ]
  },
  {
   "cell_type": "markdown",
   "id": "2eeb8d86",
   "metadata": {},
   "source": [
    "## Importing Libraries"
   ]
  },
  {
   "cell_type": "code",
   "execution_count": 1,
   "id": "147922fb",
   "metadata": {},
   "outputs": [],
   "source": [
    "import numpy as np\n",
    "import pandas as pd\n",
    "import matplotlib.pyplot as plt\n",
    "import seaborn as sns\n",
    "import warnings\n",
    "warnings.filterwarnings('ignore')\n",
    "%matplotlib inline"
   ]
  },
  {
   "cell_type": "code",
   "execution_count": 2,
   "id": "fabcd540",
   "metadata": {},
   "outputs": [
    {
     "name": "stdout",
     "output_type": "stream",
     "text": [
      "<class 'pandas.core.frame.DataFrame'>\n",
      "RangeIndex: 8693 entries, 0 to 8692\n",
      "Data columns (total 14 columns):\n",
      " #   Column        Non-Null Count  Dtype  \n",
      "---  ------        --------------  -----  \n",
      " 0   PassengerId   8693 non-null   object \n",
      " 1   HomePlanet    8492 non-null   object \n",
      " 2   CryoSleep     8476 non-null   object \n",
      " 3   Cabin         8494 non-null   object \n",
      " 4   Destination   8511 non-null   object \n",
      " 5   Age           8514 non-null   float64\n",
      " 6   VIP           8490 non-null   object \n",
      " 7   RoomService   8512 non-null   float64\n",
      " 8   FoodCourt     8510 non-null   float64\n",
      " 9   ShoppingMall  8485 non-null   float64\n",
      " 10  Spa           8510 non-null   float64\n",
      " 11  VRDeck        8505 non-null   float64\n",
      " 12  Name          8493 non-null   object \n",
      " 13  Transported   8693 non-null   bool   \n",
      "dtypes: bool(1), float64(6), object(7)\n",
      "memory usage: 891.5+ KB\n"
     ]
    },
    {
     "data": {
      "text/html": [
       "<div>\n",
       "<style scoped>\n",
       "    .dataframe tbody tr th:only-of-type {\n",
       "        vertical-align: middle;\n",
       "    }\n",
       "\n",
       "    .dataframe tbody tr th {\n",
       "        vertical-align: top;\n",
       "    }\n",
       "\n",
       "    .dataframe thead th {\n",
       "        text-align: right;\n",
       "    }\n",
       "</style>\n",
       "<table border=\"1\" class=\"dataframe\">\n",
       "  <thead>\n",
       "    <tr style=\"text-align: right;\">\n",
       "      <th></th>\n",
       "      <th>PassengerId</th>\n",
       "      <th>HomePlanet</th>\n",
       "      <th>CryoSleep</th>\n",
       "      <th>Cabin</th>\n",
       "      <th>Destination</th>\n",
       "      <th>Age</th>\n",
       "      <th>VIP</th>\n",
       "      <th>RoomService</th>\n",
       "      <th>FoodCourt</th>\n",
       "      <th>ShoppingMall</th>\n",
       "      <th>Spa</th>\n",
       "      <th>VRDeck</th>\n",
       "      <th>Name</th>\n",
       "      <th>Transported</th>\n",
       "    </tr>\n",
       "  </thead>\n",
       "  <tbody>\n",
       "    <tr>\n",
       "      <th>0</th>\n",
       "      <td>0001_01</td>\n",
       "      <td>Europa</td>\n",
       "      <td>False</td>\n",
       "      <td>B/0/P</td>\n",
       "      <td>TRAPPIST-1e</td>\n",
       "      <td>39.0</td>\n",
       "      <td>False</td>\n",
       "      <td>0.0</td>\n",
       "      <td>0.0</td>\n",
       "      <td>0.0</td>\n",
       "      <td>0.0</td>\n",
       "      <td>0.0</td>\n",
       "      <td>Maham Ofracculy</td>\n",
       "      <td>False</td>\n",
       "    </tr>\n",
       "    <tr>\n",
       "      <th>1</th>\n",
       "      <td>0002_01</td>\n",
       "      <td>Earth</td>\n",
       "      <td>False</td>\n",
       "      <td>F/0/S</td>\n",
       "      <td>TRAPPIST-1e</td>\n",
       "      <td>24.0</td>\n",
       "      <td>False</td>\n",
       "      <td>109.0</td>\n",
       "      <td>9.0</td>\n",
       "      <td>25.0</td>\n",
       "      <td>549.0</td>\n",
       "      <td>44.0</td>\n",
       "      <td>Juanna Vines</td>\n",
       "      <td>True</td>\n",
       "    </tr>\n",
       "    <tr>\n",
       "      <th>2</th>\n",
       "      <td>0003_01</td>\n",
       "      <td>Europa</td>\n",
       "      <td>False</td>\n",
       "      <td>A/0/S</td>\n",
       "      <td>TRAPPIST-1e</td>\n",
       "      <td>58.0</td>\n",
       "      <td>True</td>\n",
       "      <td>43.0</td>\n",
       "      <td>3576.0</td>\n",
       "      <td>0.0</td>\n",
       "      <td>6715.0</td>\n",
       "      <td>49.0</td>\n",
       "      <td>Altark Susent</td>\n",
       "      <td>False</td>\n",
       "    </tr>\n",
       "    <tr>\n",
       "      <th>3</th>\n",
       "      <td>0003_02</td>\n",
       "      <td>Europa</td>\n",
       "      <td>False</td>\n",
       "      <td>A/0/S</td>\n",
       "      <td>TRAPPIST-1e</td>\n",
       "      <td>33.0</td>\n",
       "      <td>False</td>\n",
       "      <td>0.0</td>\n",
       "      <td>1283.0</td>\n",
       "      <td>371.0</td>\n",
       "      <td>3329.0</td>\n",
       "      <td>193.0</td>\n",
       "      <td>Solam Susent</td>\n",
       "      <td>False</td>\n",
       "    </tr>\n",
       "    <tr>\n",
       "      <th>4</th>\n",
       "      <td>0004_01</td>\n",
       "      <td>Earth</td>\n",
       "      <td>False</td>\n",
       "      <td>F/1/S</td>\n",
       "      <td>TRAPPIST-1e</td>\n",
       "      <td>16.0</td>\n",
       "      <td>False</td>\n",
       "      <td>303.0</td>\n",
       "      <td>70.0</td>\n",
       "      <td>151.0</td>\n",
       "      <td>565.0</td>\n",
       "      <td>2.0</td>\n",
       "      <td>Willy Santantines</td>\n",
       "      <td>True</td>\n",
       "    </tr>\n",
       "  </tbody>\n",
       "</table>\n",
       "</div>"
      ],
      "text/plain": [
       "  PassengerId HomePlanet CryoSleep  Cabin  Destination   Age    VIP  \\\n",
       "0     0001_01     Europa     False  B/0/P  TRAPPIST-1e  39.0  False   \n",
       "1     0002_01      Earth     False  F/0/S  TRAPPIST-1e  24.0  False   \n",
       "2     0003_01     Europa     False  A/0/S  TRAPPIST-1e  58.0   True   \n",
       "3     0003_02     Europa     False  A/0/S  TRAPPIST-1e  33.0  False   \n",
       "4     0004_01      Earth     False  F/1/S  TRAPPIST-1e  16.0  False   \n",
       "\n",
       "   RoomService  FoodCourt  ShoppingMall     Spa  VRDeck               Name  \\\n",
       "0          0.0        0.0           0.0     0.0     0.0    Maham Ofracculy   \n",
       "1        109.0        9.0          25.0   549.0    44.0       Juanna Vines   \n",
       "2         43.0     3576.0           0.0  6715.0    49.0      Altark Susent   \n",
       "3          0.0     1283.0         371.0  3329.0   193.0       Solam Susent   \n",
       "4        303.0       70.0         151.0   565.0     2.0  Willy Santantines   \n",
       "\n",
       "   Transported  \n",
       "0        False  \n",
       "1         True  \n",
       "2        False  \n",
       "3        False  \n",
       "4         True  "
      ]
     },
     "execution_count": 2,
     "metadata": {},
     "output_type": "execute_result"
    }
   ],
   "source": [
    "# Import dataframe and visualize content\n",
    "df = pd.read_csv('train.csv')\n",
    "test = pd.read_csv('test.csv')\n",
    "pred = pd.DataFrame(test['PassengerId'])\n",
    "df.info()\n",
    "df.describe()\n",
    "df.head()"
   ]
  },
  {
   "cell_type": "markdown",
   "id": "17bc2b0f",
   "metadata": {},
   "source": [
    "## Define Pipeline"
   ]
  },
  {
   "cell_type": "code",
   "execution_count": 3,
   "id": "e3b852ca",
   "metadata": {},
   "outputs": [],
   "source": [
    "def has_siblings(x,y):\n",
    "    if x in y:\n",
    "        return 1\n",
    "    else:\n",
    "        return 0"
   ]
  },
  {
   "cell_type": "code",
   "execution_count": 4,
   "id": "e90f98d3",
   "metadata": {},
   "outputs": [],
   "source": [
    "def pipeline(df):\n",
    "    # Create the 'Services' column as the sum of the individual columns\n",
    "    for col in ['RoomService','FoodCourt','ShoppingMall','Spa','VRDeck']:\n",
    "        df[col].fillna(0, inplace=True)\n",
    "    \n",
    "    df['CryoSleep'].fillna(-1, inplace=True)\n",
    "    df['VIP'].fillna(-1, inplace=True)\n",
    "    #df['Services'] = df['RoomService'] + df['FoodCourt'] + df['ShoppingMall'] + df['Spa'] + df['VRDeck']\n",
    "\n",
    "    # Drop the individual columns\n",
    "    #df.drop(columns=['RoomService', 'FoodCourt', 'ShoppingMall', 'Spa', 'VRDeck'], inplace=True)\n",
    "    \n",
    "    # Replace NaN values in the 'Age' column with mean age op people having no services\n",
    "    non_null_age = df[~df['Age'].isna()]\n",
    "    #mean_age = non_null_age[non_null_age['Services'] == 0.].Age.mean()\n",
    "    df['Age'].fillna(df['Age'].mean(), inplace=True)\n",
    "    # Check if 'Age' is not equal to 0, then apply log transformation, otherwise keep it as it is\n",
    "    df['Age'] = df['Age'].apply(lambda x: np.log2(x) if x != 0 else x)\n",
    "    \n",
    "    df['Passenger1'] = df.PassengerId.apply(lambda x:x.split('_')[0])\n",
    "    #df['HasSiblings'] = df['Passenger1'].apply(lambda x:has_siblings(x,df['Passenger1'][df['Passenger1'].duplicated()].values))\n",
    "    df.drop(columns=['PassengerId', 'Passenger1', 'Name'], inplace=True)\n",
    "    \n",
    "    # Create dummy variables for 'HomePlanet'\n",
    "    homeplanet_dummies = pd.get_dummies(df['HomePlanet'])\n",
    "\n",
    "    # Concatenate the dummy variables with the original DataFrame\n",
    "    df = pd.concat([df, homeplanet_dummies], axis=1)\n",
    "\n",
    "    # Drop the original 'HomePlanet' column as it is no longer needed\n",
    "    df.drop(columns=['HomePlanet'], inplace=True)\n",
    "    \n",
    "    # Create dummy variables for 'Destination'\n",
    "    Destination_dummies = pd.get_dummies(df['Destination'])\n",
    "\n",
    "    # Concatenate the dummy variables with the original DataFrame\n",
    "    df = pd.concat([df, Destination_dummies], axis=1)\n",
    "\n",
    "    # Drop the original 'Destination' column as it is no longer needed\n",
    "    df.drop(columns=['Destination'], inplace=True)\n",
    "    \n",
    "    # Define a mapping for replacement\n",
    "    mapping = {True: int(1), False: int(0), pd.NA: -1}\n",
    "\n",
    "    # Replace values in the specified columns using the mapping\n",
    "    df['CryoSleep'] = df['CryoSleep'].replace(mapping)\n",
    "    df['VIP'] = df['VIP'].replace(mapping)\n",
    "    try:\n",
    "        df['Transported'] = df['Transported'].replace(mapping)\n",
    "    except:\n",
    "        pass\n",
    "    \n",
    "    # Split the 'Cabin' column by '/'\n",
    "    cabin_parts = df['Cabin'].str.split('/')\n",
    "\n",
    "    # Extract 'string1' and 'string2' from the list of splits\n",
    "    df['CabinLetter'] = cabin_parts.str[0] + cabin_parts.str[-1]\n",
    "    \n",
    "    # Use factorize to convert each unique value to a number\n",
    "    #df['CabinLetter'] = pd.factorize(df['CabinLetter'])[0]\n",
    "\n",
    "    # Replace NaN values with -1\n",
    "    #df['CabinLetter'].fillna(-1, inplace=True)\n",
    "    \n",
    "    df['CabinNumber'] = cabin_parts.str[1]\n",
    "    df['CabinNumber'].fillna(-1, inplace=True)\n",
    "    \n",
    "    df.drop(columns=['Cabin'], inplace=True)\n",
    "    \n",
    "    \n",
    "    # Create dummy variables for 'HomePlanet'\n",
    "    CabinLetter_dummies = pd.get_dummies(df['CabinLetter'])\n",
    "\n",
    "    # Concatenate the dummy variables with the original DataFrame\n",
    "    df = pd.concat([df, CabinLetter_dummies], axis=1)\n",
    "\n",
    "    # Drop the original 'HomePlanet' column as it is no longer needed\n",
    "    df.drop(columns=['CabinLetter'], inplace=True)\n",
    "    \n",
    "    \n",
    "    return df"
   ]
  },
  {
   "cell_type": "code",
   "execution_count": 5,
   "id": "24783274",
   "metadata": {},
   "outputs": [
    {
     "data": {
      "text/plain": [
       "Index(['CryoSleep', 'Age', 'VIP', 'RoomService', 'FoodCourt', 'ShoppingMall',\n",
       "       'Spa', 'VRDeck', 'Transported', 'Earth', 'Europa', 'Mars',\n",
       "       '55 Cancri e', 'PSO J318.5-22', 'TRAPPIST-1e', 'CabinNumber', 'AP',\n",
       "       'AS', 'BP', 'BS', 'CP', 'CS', 'DP', 'DS', 'EP', 'ES', 'FP', 'FS', 'GP',\n",
       "       'GS', 'TP', 'TS'],\n",
       "      dtype='object')"
      ]
     },
     "execution_count": 5,
     "metadata": {},
     "output_type": "execute_result"
    }
   ],
   "source": [
    "df = pipeline(df)\n",
    "df.columns"
   ]
  },
  {
   "cell_type": "markdown",
   "id": "b2df79c3",
   "metadata": {},
   "source": [
    "## Apply Machine Learning"
   ]
  },
  {
   "cell_type": "code",
   "execution_count": 6,
   "id": "18039921",
   "metadata": {},
   "outputs": [
    {
     "data": {
      "text/plain": [
       "(array([863.,   0.,   0.,   0.,   0.,   0.,   0.,   0.,   0., 876.]),\n",
       " array([0. , 0.1, 0.2, 0.3, 0.4, 0.5, 0.6, 0.7, 0.8, 0.9, 1. ]),\n",
       " <BarContainer object of 10 artists>)"
      ]
     },
     "execution_count": 6,
     "metadata": {},
     "output_type": "execute_result"
    },
    {
     "data": {
      "image/png": "[encoded data removed]",
      "text/plain": [
       "<Figure size 640x480 with 2 Axes>"
      ]
     },
     "metadata": {},
     "output_type": "display_data"
    }
   ],
   "source": [
    "from sklearn.model_selection import StratifiedShuffleSplit\n",
    "split = StratifiedShuffleSplit(n_splits = 1, test_size = 0.2, random_state = 1234)\n",
    "for train_indices,test_indices in split.split(df,df[['Transported']]):\n",
    "    train_set = df.iloc[train_indices]\n",
    "    test_set = df.iloc[test_indices]\n",
    "plt.subplot(1,2,1)\n",
    "plt.hist(train_set.Transported)\n",
    "plt.subplot(1,2,2)\n",
    "plt.hist(test_set.Transported)"
   ]
  },
  {
   "cell_type": "code",
   "execution_count": 7,
   "id": "1bf3ad22",
   "metadata": {},
   "outputs": [],
   "source": [
    "from sklearn.preprocessing import StandardScaler\n",
    "scaler = StandardScaler()\n",
    "X_train = scaler.fit_transform(train_set.drop(['Transported'],axis = 1))\n",
    "y_train = train_set.Transported.to_numpy()\n",
    "scaler = StandardScaler()\n",
    "X_test = scaler.fit_transform(test_set.drop(['Transported'],axis = 1))\n",
    "y_test = test_set.Transported.to_numpy()\n"
   ]
  },
  {
   "cell_type": "code",
   "execution_count": 8,
   "id": "4294b037",
   "metadata": {},
   "outputs": [
    {
     "data": {
      "text/plain": [
       "0.7912593444508338"
      ]
     },
     "execution_count": 8,
     "metadata": {},
     "output_type": "execute_result"
    }
   ],
   "source": [
    "from sklearn.ensemble import RandomForestClassifier\n",
    "rf = RandomForestClassifier()\n",
    "rf.fit(X_train,y_train)\n",
    "prediction = rf.predict(X_test)\n",
    "err = (rf.predict(X_test)-y_test)**2\n",
    "1 - err.sum()/len(err)"
   ]
  },
  {
   "cell_type": "code",
   "execution_count": null,
   "id": "ae5f671e",
   "metadata": {},
   "outputs": [],
   "source": []
  },
  {
   "cell_type": "code",
   "execution_count": null,
   "id": "cafa4b00",
   "metadata": {},
   "outputs": [],
   "source": []
  },
  {
   "cell_type": "code",
   "execution_count": null,
   "id": "cdfb68e7",
   "metadata": {},
   "outputs": [],
   "source": []
  },
  {
   "cell_type": "code",
   "execution_count": null,
   "id": "7c58ff90",
   "metadata": {},
   "outputs": [],
   "source": [
    "from sklearn import ensemble\n",
    "from sklearn.metrics import accuracy_score, classification_report, confusion_matrix\n",
    "from sklearn.model_selection import  GridSearchCV\n",
    "from sklearn.ensemble import RandomForestClassifier\n",
    "from sklearn.ensemble import ExtraTreesClassifier\n",
    "from sklearn.discriminant_analysis import LinearDiscriminantAnalysis\n",
    "from sklearn.svm import SVC\n",
    "from sklearn import svm\n",
    "from catboost import CatBoostClassifier\n",
    "from sklearn.linear_model import RidgeClassifier\n",
    "from sklearn.neighbors import KNeighborsClassifier\n",
    "\n",
    "# Best Parameters for each classifier\n",
    "Best_Parameters_CSV = {'C': 1, 'gamma': 'auto', 'kernel': 'rbf'}\n",
    "Best_Parameters_CatBoostClassifier =  {'depth': 10, 'iterations': 100, 'l2_leaf_reg': 1, 'learning_rate': 0.05}\n",
    "Best_Parameters_RandomForest  = {'max_depth': None, 'min_samples_leaf': 2, 'min_samples_split': 20, 'n_estimators': 100}\n",
    "Best_Parameters_ExtraTrees = {'max_depth': 10, 'min_samples_leaf': 1, 'min_samples_split': 10, 'n_estimators': 150}\n",
    "Best_Parameters_Ridge = {'alpha': 0.1, 'solver': 'auto'}\n",
    "Best_Parameters_KNN = {'algorithm': 'auto', 'n_neighbors': 10, 'weights': 'distance'}\n",
    "\n",
    "voter = [('ada' , ensemble.AdaBoostClassifier(n_estimators=300, learning_rate=0.1, random_state=0)),\n",
    "         ('bag' , ensemble.BaggingClassifier(max_samples=0.25, n_estimators=300,random_state=0)),\n",
    "         ('nvc' , svm.NuSVC(probability=True)),\n",
    "         ('cat', CatBoostClassifier(**Best_Parameters_CatBoostClassifier, verbose=False)),\n",
    "         ('lda' , LinearDiscriminantAnalysis()),\n",
    "         ('ttc' , ExtraTreesClassifier(**Best_Parameters_ExtraTrees)),\n",
    "         ('lvc' , SVC(**Best_Parameters_CSV)),\n",
    "         ('rcc',RidgeClassifier(**Best_Parameters_Ridge)),\n",
    "         ('rfc',RandomForestClassifier(**Best_Parameters_RandomForest)),\n",
    "         ('knc',KNeighborsClassifier(**Best_Parameters_KNN))]\n",
    "\n",
    "vote_m = ensemble.VotingClassifier(estimators = voter , voting = 'hard')\n",
    "\n",
    "vote_m.fit(X_train,y_train)\n",
    "predictions = vote_m.predict(X_test)\n",
    "\n",
    "print(classification_report(y_test,predictions))\n",
    "print(confusion_matrix(y_test,predictions))\n",
    "\n"
   ]
  },
  {
   "cell_type": "code",
   "execution_count": null,
   "id": "ba180d27",
   "metadata": {},
   "outputs": [],
   "source": [
    "test = pipeline(test)\n",
    "\n",
    "scaler = StandardScaler()\n",
    "test_scaled = scaler.fit_transform(test)\n",
    "predictions_pipeline = vote_m.predict(test_scaled)\n",
    "\n",
    "pred['Transported'] = predictions_pipeline\n",
    "pred['Transported'] = pred['Transported'].apply(lambda x:'True' if x == 1 else 'False')\n",
    "print(pred)\n",
    "pred.to_csv('predictions.csv',index = False)"
   ]
  },
  {
   "cell_type": "code",
   "execution_count": null,
   "id": "d6c55400",
   "metadata": {},
   "outputs": [],
   "source": []
  },
  {
   "cell_type": "code",
   "execution_count": null,
   "id": "cc7b56dc",
   "metadata": {},
   "outputs": [],
   "source": []
  },
  {
   "cell_type": "code",
   "execution_count": null,
   "id": "81243e72",
   "metadata": {},
   "outputs": [],
   "source": []
  },
  {
   "cell_type": "code",
   "execution_count": null,
   "id": "a38d9ba8",
   "metadata": {},
   "outputs": [],
   "source": []
  },
  {
   "cell_type": "code",
   "execution_count": null,
   "id": "4ab79813",
   "metadata": {},
   "outputs": [],
   "source": []
  },
  {
   "cell_type": "code",
   "execution_count": null,
   "id": "826d6d2f",
   "metadata": {},
   "outputs": [],
   "source": []
  },
  {
   "cell_type": "code",
   "execution_count": null,
   "id": "fb45896b",
   "metadata": {},
   "outputs": [],
   "source": []
  },
  {
   "cell_type": "code",
   "execution_count": null,
   "id": "f0f075b8",
   "metadata": {},
   "outputs": [],
   "source": []
  },
  {
   "cell_type": "code",
   "execution_count": null,
   "id": "1ecd5d62",
   "metadata": {},
   "outputs": [],
   "source": []
  },
  {
   "cell_type": "code",
   "execution_count": null,
   "id": "ba66c5e9",
   "metadata": {},
   "outputs": [],
   "source": []
  },
  {
   "cell_type": "code",
   "execution_count": null,
   "id": "8c97d5b4",
   "metadata": {},
   "outputs": [],
   "source": []
  },
  {
   "cell_type": "code",
   "execution_count": null,
   "id": "8ed7fe4f",
   "metadata": {},
   "outputs": [],
   "source": []
  }
 ],
 "metadata": {
  "kernelspec": {
   "display_name": "Python 3 (ipykernel)",
   "language": "python",
   "name": "python3"
  },
  "language_info": {
   "codemirror_mode": {
    "name": "ipython",
    "version": 3
   },
   "file_extension": ".py",
   "mimetype": "text/x-python",
   "name": "python",
   "nbconvert_exporter": "python",
   "pygments_lexer": "ipython3",
   "version": "3.10.9"
  }
 },
 "nbformat": 4,
 "nbformat_minor": 5
}
