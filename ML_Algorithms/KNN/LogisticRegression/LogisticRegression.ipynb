{
 "cells": [
  {
   "cell_type": "markdown",
   "id": "da4d876f",
   "metadata": {},
   "source": [
    "### Logistic Regression"
   ]
  },
  {
   "cell_type": "code",
   "execution_count": 16,
   "id": "832a7257",
   "metadata": {},
   "outputs": [],
   "source": [
    "import numpy as np\n",
    "import math\n",
    "from sklearn.model_selection import train_test_split\n",
    "from sklearn import datasets\n",
    "import matplotlib.pyplot as plt\n",
    "\n",
    "from sklearn.linear_model import LogisticRegression\n",
    "\n",
    "bc = datasets.load_breast_cancer()\n",
    "X,y = bc.data,bc.target\n",
    "X_train,X_test,y_train,y_test = train_test_split(X,y,test_size = 0.2, random_state = 1234)\n",
    "\n"
   ]
  },
  {
   "cell_type": "code",
   "execution_count": 26,
   "id": "eda339e0",
   "metadata": {},
   "outputs": [
    {
     "data": {
      "text/plain": [
       "0.9473684210526315"
      ]
     },
     "execution_count": 26,
     "metadata": {},
     "output_type": "execute_result"
    }
   ],
   "source": [
    "lrg = LogisticRegression(tol = 0.001, max_iter = 10000)\n",
    "lrg.fit(X_train,y_train)\n",
    "y_predicted = lrg.predict(X_test)\n",
    "np.sum(y_predicted == y_test)/len(y_test)"
   ]
  },
  {
   "cell_type": "code",
   "execution_count": 32,
   "id": "27eac7fb",
   "metadata": {},
   "outputs": [],
   "source": [
    "class myLogisticRegression:\n",
    "    def __init__(self,lr = 0.001,n_iteration = 1000):\n",
    "        self.lr = lr\n",
    "        self.n_iteration = n_iteration\n",
    "        self.w = None\n",
    "        self.b = None\n",
    "    def fit(self,X,y):\n",
    "        n_samples,n_features = X.shape\n",
    "        self.b = 0\n",
    "        self.w = np.zeros(n_features)\n",
    "        \n",
    "        for _ in range(0,self.n_iteration):\n",
    "            y_predicted = 1/(1+np.exp((-1)*np.dot(X,self.w)+self.b))\n",
    "            dw = (2/n_samples)*np.dot(X.T,(y_predicted-y))\n",
    "            self.w = self.w - self.lr*dw\n",
    "            db = (2/n_samples)*np.sum(y_predicted-y)\n",
    "            self.b = self.b - self.lr*db\n",
    "        return self.w,self.b\n",
    "    \n",
    "    def predict(self,X):\n",
    "        y = 1/(1+np.exp((-1)*np.dot(X,self.w)+self.b))\n",
    "        y_pred = [1 if i >= 0.5 else 0 for i in y]\n",
    "        return y_pred\n",
    "        "
   ]
  },
  {
   "cell_type": "code",
   "execution_count": 33,
   "id": "de189e4e",
   "metadata": {},
   "outputs": [
    {
     "name": "stderr",
     "output_type": "stream",
     "text": [
      "C:\\Users\\848105\\AppData\\Local\\Temp\\6\\ipykernel_21476\\107772717.py:13: RuntimeWarning: overflow encountered in exp\n",
      "  y_predicted = 1/(1+np.exp((-1)*np.dot(X,self.w)+self.b))\n",
      "C:\\Users\\848105\\AppData\\Local\\Temp\\6\\ipykernel_21476\\107772717.py:21: RuntimeWarning: overflow encountered in exp\n",
      "  y = 1/(1+np.exp((-1)*np.dot(X,self.w)+self.b))\n"
     ]
    },
    {
     "data": {
      "text/plain": [
       "0.9210526315789473"
      ]
     },
     "execution_count": 33,
     "metadata": {},
     "output_type": "execute_result"
    }
   ],
   "source": [
    "my_lrg = myLogisticRegression(lr = 0.001, n_iteration = 10000)\n",
    "my_lrg.fit(X_train,y_train)\n",
    "y_predicted = my_lrg.predict(X_test)\n",
    "np.sum(y_predicted == y_test)/len(y_test)"
   ]
  },
  {
   "cell_type": "code",
   "execution_count": null,
   "id": "aa3cc218",
   "metadata": {},
   "outputs": [],
   "source": []
  },
  {
   "cell_type": "code",
   "execution_count": null,
   "id": "50b4db51",
   "metadata": {},
   "outputs": [],
   "source": []
  }
 ],
 "metadata": {
  "kernelspec": {
   "display_name": "Python 3 (ipykernel)",
   "language": "python",
   "name": "python3"
  },
  "language_info": {
   "codemirror_mode": {
    "name": "ipython",
    "version": 3
   },
   "file_extension": ".py",
   "mimetype": "text/x-python",
   "name": "python",
   "nbconvert_exporter": "python",
   "pygments_lexer": "ipython3",
   "version": "3.9.12"
  }
 },
 "nbformat": 4,
 "nbformat_minor": 5
}
