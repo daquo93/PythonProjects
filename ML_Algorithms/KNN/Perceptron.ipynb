{
 "cells": [
  {
   "cell_type": "code",
   "execution_count": 1,
   "id": "44b8b828",
   "metadata": {},
   "outputs": [],
   "source": [
    "import numpy as np\n",
    "from sklearn.model_selection import train_test_split\n",
    "from sklearn import datasets\n",
    "import matplotlib.pyplot as plt\n",
    "from sklearn.linear_model import Perceptron\n",
    "\n",
    "X,y = datasets.make_classification(n_samples = 1000, n_features = 10, n_classes = 2, random_state = 123)\n",
    "X_train,X_test,y_train,y_test = train_test_split(X,y,test_size = 0.2,random_state = 123 )\n"
   ]
  },
  {
   "cell_type": "code",
   "execution_count": 4,
   "id": "591a2852",
   "metadata": {},
   "outputs": [],
   "source": [
    "n_samples,n_features = X_train.shape"
   ]
  },
  {
   "cell_type": "code",
   "execution_count": 5,
   "id": "2e9b031e",
   "metadata": {},
   "outputs": [
    {
     "data": {
      "text/plain": [
       "800"
      ]
     },
     "execution_count": 5,
     "metadata": {},
     "output_type": "execute_result"
    }
   ],
   "source": [
    "n_samples"
   ]
  },
  {
   "cell_type": "code",
   "execution_count": 6,
   "id": "3a297a4e",
   "metadata": {},
   "outputs": [
    {
     "data": {
      "text/plain": [
       "10"
      ]
     },
     "execution_count": 6,
     "metadata": {},
     "output_type": "execute_result"
    }
   ],
   "source": [
    "n_features"
   ]
  },
  {
   "cell_type": "code",
   "execution_count": 17,
   "id": "bdcfafaa",
   "metadata": {},
   "outputs": [],
   "source": [
    "one_array = np.array([[1] for _ in range(n_samples)])\n",
    "X_new = np.concatenate((one_array,X_train),axis = 1)"
   ]
  },
  {
   "cell_type": "code",
   "execution_count": 19,
   "id": "bcfa6d59",
   "metadata": {},
   "outputs": [
    {
     "data": {
      "text/plain": [
       "(800, 11)"
      ]
     },
     "execution_count": 19,
     "metadata": {},
     "output_type": "execute_result"
    }
   ],
   "source": [
    "X_new.shape"
   ]
  },
  {
   "cell_type": "code",
   "execution_count": 51,
   "id": "7ccc7400",
   "metadata": {},
   "outputs": [],
   "source": [
    "w = np.array([[1] for _ in range(n_features+1)])"
   ]
  },
  {
   "cell_type": "code",
   "execution_count": 52,
   "id": "fed9891e",
   "metadata": {},
   "outputs": [],
   "source": [
    "y_dot = np.dot(X_new,w)\n",
    "y_pred = np.where(y_dot>=0,1,0)"
   ]
  },
  {
   "cell_type": "code",
   "execution_count": 53,
   "id": "dc2d4ee2",
   "metadata": {},
   "outputs": [
    {
     "data": {
      "text/plain": [
       "(800, 1)"
      ]
     },
     "execution_count": 53,
     "metadata": {},
     "output_type": "execute_result"
    }
   ],
   "source": [
    "y_pred.shape"
   ]
  },
  {
   "cell_type": "code",
   "execution_count": 58,
   "id": "d1e48088",
   "metadata": {},
   "outputs": [],
   "source": [
    "dw = (y_train - y_pred[:,0])"
   ]
  },
  {
   "cell_type": "code",
   "execution_count": 60,
   "id": "219eceb9",
   "metadata": {},
   "outputs": [],
   "source": [
    "dw=np.dot((y_train[0] - y_pred[:,0][0]),X_new[0])"
   ]
  },
  {
   "cell_type": "code",
   "execution_count": 83,
   "id": "d79f2a85",
   "metadata": {},
   "outputs": [],
   "source": [
    "for _ in range(1000):\n",
    "    for idx,x_i in enumerate(X_new):\n",
    "        y_dot = np.dot(X_new,w)\n",
    "        y_pred = np.where(y_dot>=0,1,0)\n",
    "        try:\n",
    "            dw = np.dot((y_train[idx] - y_pred[:,0][idx]),x_i)*0.0001\n",
    "        except:\n",
    "            dw = np.dot((y_train[idx] - y_pred[idx]),x_i)*0.0001\n",
    "            \n",
    "        try:\n",
    "            w = w[:,0] + dw\n",
    "        except:\n",
    "            w = w+dw\n",
    "        "
   ]
  },
  {
   "cell_type": "code",
   "execution_count": 88,
   "id": "35abbf59",
   "metadata": {},
   "outputs": [
    {
     "data": {
      "text/plain": [
       "0.95125"
      ]
     },
     "execution_count": 88,
     "metadata": {},
     "output_type": "execute_result"
    }
   ],
   "source": [
    "np.where((y_pred-y_train)==0,1,0).sum()/800"
   ]
  },
  {
   "cell_type": "code",
   "execution_count": 89,
   "id": "a31af34f",
   "metadata": {},
   "outputs": [
    {
     "data": {
      "text/plain": [
       "0.95"
      ]
     },
     "execution_count": 89,
     "metadata": {},
     "output_type": "execute_result"
    }
   ],
   "source": [
    "one_array = np.array([[1] for _ in range(200)])\n",
    "X_new = np.concatenate((one_array,X_test),axis = 1)\n",
    "y_dot = np.dot(X_new,w)\n",
    "y_pred = np.where(y_dot>=0,1,0)\n",
    "np.where((y_pred-y_test)==0,1,0).sum()/200"
   ]
  },
  {
   "cell_type": "code",
   "execution_count": null,
   "id": "88c59462",
   "metadata": {},
   "outputs": [],
   "source": []
  },
  {
   "cell_type": "code",
   "execution_count": null,
   "id": "1e9d686a",
   "metadata": {},
   "outputs": [],
   "source": []
  }
 ],
 "metadata": {
  "kernelspec": {
   "display_name": "Python 3 (ipykernel)",
   "language": "python",
   "name": "python3"
  },
  "language_info": {
   "codemirror_mode": {
    "name": "ipython",
    "version": 3
   },
   "file_extension": ".py",
   "mimetype": "text/x-python",
   "name": "python",
   "nbconvert_exporter": "python",
   "pygments_lexer": "ipython3",
   "version": "3.9.12"
  }
 },
 "nbformat": 4,
 "nbformat_minor": 5
}
