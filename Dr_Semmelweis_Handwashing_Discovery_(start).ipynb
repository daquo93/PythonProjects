{
 "cells": [
  {
   "cell_type": "markdown",
   "metadata": {
    "id": "4q6Z8m5n63db"
   },
   "source": [
    "# Setup and Context\n",
    "\n",
    "<img src=\"https://i.imgur.com/gugIA5r.png\" width=700>"
   ]
  },
  {
   "cell_type": "markdown",
   "metadata": {
    "dc": {
     "key": "13f090f9f0"
    },
    "id": "IGsVeQXb63dd",
    "run_control": {
     "frozen": true
    },
    "tags": [
     "context"
    ]
   },
   "source": [
    "### Introduction\n",
    "\n",
    "Dr Ignaz Semmelweis was a Hungarian physician born in 1818 who worked in the Vienna General Hospital. In the past people thought of illness as caused by \"bad air\" or evil spirits. But in the 1800s Doctors started looking more at anatomy, doing autopsies and started making arguments based on data. Dr Semmelweis suspected that something was going wrong with the procedures at Vienna General Hospital. Semmelweis wanted to figure out why so many women in maternity wards were dying from childbed fever (i.e., [puerperal fever](https://en.wikipedia.org/wiki/Postpartum_infections)).\n",
    "\n",
    "<img src=https://i.imgur.com/lSyNUwR.png width=700>\n",
    "\n",
    "Today you will become Dr Semmelweis. This is your office 👆. You will step into Dr Semmelweis' shoes and analyse the same data collected from 1841 to 1849."
   ]
  },
  {
   "cell_type": "markdown",
   "metadata": {
    "id": "bafSbGVG63dd"
   },
   "source": [
    "### The Data Source\n",
    "\n",
    "Dr Semmelweis published his research in 1861. I found the scanned pages of the [full text with the original tables in German](http://www.deutschestextarchiv.de/book/show/semmelweis_kindbettfieber_1861), but an excellent [English translation can be found here](http://graphics8.nytimes.com/images/blogs/freakonomics/pdf/the%20etiology,%20concept%20and%20prophylaxis%20of%20childbed%20fever.pdf).\n",
    "\n",
    "<img src=https://i.imgur.com/6HfLtaC.png width=500>"
   ]
  },
  {
   "cell_type": "markdown",
   "metadata": {
    "id": "eL-9yKkvNr6N"
   },
   "source": [
    "### Upgrade plotly (only Google Colab Notebook)\n",
    "\n",
    "Google Colab may not be running the latest version of plotly. If you're working in Google Colab, uncomment the line below, run the cell, and restart your notebook server. "
   ]
  },
  {
   "cell_type": "code",
   "execution_count": null,
   "metadata": {
    "id": "eEEIIlY3N0oD"
   },
   "outputs": [],
   "source": [
    "# %pip install --upgrade plotly"
   ]
  },
  {
   "cell_type": "markdown",
   "metadata": {
    "id": "nF_Ci_SA63dd"
   },
   "source": [
    "### Import Statements"
   ]
  },
  {
   "cell_type": "code",
   "execution_count": 1,
   "metadata": {
    "id": "kNoOuCg563de"
   },
   "outputs": [],
   "source": [
    "import pandas as pd\n",
    "import numpy as np\n",
    "import plotly.express as px\n",
    "import seaborn as sns\n",
    "import matplotlib.pyplot as plt\n",
    "import matplotlib.dates as mdates"
   ]
  },
  {
   "cell_type": "markdown",
   "metadata": {
    "id": "PcWO2FOi63di"
   },
   "source": [
    "### Notebook Presentation"
   ]
  },
  {
   "cell_type": "code",
   "execution_count": 2,
   "metadata": {
    "id": "YV7Y4mhp63dj"
   },
   "outputs": [],
   "source": [
    "pd.options.display.float_format = '{:,.2f}'.format\n",
    "\n",
    "# Create locators for ticks on the time axis\n",
    "\n",
    "\n",
    "from pandas.plotting import register_matplotlib_converters\n",
    "register_matplotlib_converters()"
   ]
  },
  {
   "cell_type": "markdown",
   "metadata": {
    "id": "rp8Dqfp663dg"
   },
   "source": [
    "### Read the Data"
   ]
  },
  {
   "cell_type": "code",
   "execution_count": 3,
   "metadata": {
    "id": "Wdr6_0pk63dh"
   },
   "outputs": [],
   "source": [
    "df_yearly = pd.read_csv('annual_deaths_by_clinic.csv')\n",
    "# parse_dates avoids DateTime conversion later\n",
    "df_monthly = pd.read_csv('monthly_deaths.csv', \n",
    "                      parse_dates=['date'])"
   ]
  },
  {
   "cell_type": "markdown",
   "metadata": {
    "id": "C8ZLkXkk63dl"
   },
   "source": [
    "# Preliminary Data Exploration\n",
    "\n",
    "**Challenge**: Check out these two DataFrames ☝️. \n",
    "* What is the shape of df_yearly and df_monthly? How many rows and columns?\n",
    "* What are the column names?\n",
    "* Which years are included in the dataset?\n",
    "* Are there any NaN values or duplicates?\n",
    "* What were the average number of births that took place per month?\n",
    "* What were the average number of deaths that took place per month?"
   ]
  },
  {
   "cell_type": "code",
   "execution_count": 10,
   "metadata": {
    "id": "CDYyshRAHySR"
   },
   "outputs": [
    {
     "name": "stdout",
     "output_type": "stream",
     "text": [
      "What is the shape of df_yearly and df_monthly? How many rows and columns?\n",
      "The df_monthly has 98 rows and 3 columns\n",
      "The df_yearly has 12 rows and 4 columns\n"
     ]
    }
   ],
   "source": [
    "print(\"What is the shape of df_yearly and df_monthly? How many rows and columns?\")\n",
    "print(\"The df_monthly has\",df_monthly.shape[0],\"rows and\",df_monthly.shape[1],\"columns\")\n",
    "print(\"The df_yearly has\",df_yearly.shape[0],\"rows and\",df_yearly.shape[1],\"columns\")"
   ]
  },
  {
   "cell_type": "code",
   "execution_count": 17,
   "metadata": {
    "id": "0CmnKF4_Hyg0"
   },
   "outputs": [
    {
     "name": "stdout",
     "output_type": "stream",
     "text": [
      "df_monthly has the following columns:\n",
      "date\n",
      "births\n",
      "deaths\n",
      "df_yearly has the following columns:\n",
      "year\n",
      "births\n",
      "deaths\n",
      "clinic\n"
     ]
    }
   ],
   "source": [
    "df_monthly.name = \"df_monthly\"\n",
    "df_yearly.name = \"df_yearly\"\n",
    "for df in [df_monthly,df_yearly]:\n",
    "    print(df.name+' has the following columns:')\n",
    "    for col in df.columns:\n",
    "        print(col)"
   ]
  },
  {
   "cell_type": "code",
   "execution_count": 27,
   "metadata": {},
   "outputs": [
    {
     "name": "stdout",
     "output_type": "stream",
     "text": [
      "Which years are included in the dataset?\n",
      "The df_monthly contains the following years:\n",
      "1841\n",
      "1842\n",
      "1843\n",
      "1844\n",
      "1845\n",
      "1846\n",
      "1847\n",
      "1848\n",
      "1849\n",
      "The df_yearly contains the following years:\n",
      "1841\n",
      "1842\n",
      "1843\n",
      "1844\n",
      "1845\n",
      "1846\n"
     ]
    }
   ],
   "source": [
    "print(\"Which years are included in the dataset?\")\n",
    "df_monthly['year'] = df_monthly.date.apply(lambda x : x.year)\n",
    "print(\"The df_monthly contains the following years:\")\n",
    "for year in df_monthly.year.unique():\n",
    "    print(str(year))\n",
    "print(\"The df_yearly contains the following years:\")\n",
    "for year in df_yearly.year.unique():\n",
    "    print(str(year))"
   ]
  },
  {
   "cell_type": "markdown",
   "metadata": {
    "id": "yiZF9Tat63dq"
   },
   "source": [
    "### Check for Nan Values and Duplicates"
   ]
  },
  {
   "cell_type": "code",
   "execution_count": 41,
   "metadata": {
    "id": "xdyyfk2oH0Ab"
   },
   "outputs": [
    {
     "name": "stdout",
     "output_type": "stream",
     "text": [
      "Are there any NaN values or duplicates? -> No\n"
     ]
    }
   ],
   "source": [
    "print(\"Are there any NaN values or duplicates? -> No\")\n",
    "#df_monthly.isna().values.any()\n",
    "#df_yearly.isna().values.any()\n",
    "#df_monthly.duplicated().values.any()\n",
    "#df_yearly.duplicated().values.any()"
   ]
  },
  {
   "cell_type": "markdown",
   "metadata": {
    "id": "Y6RkTaM463dz"
   },
   "source": [
    "### Descriptive Statistics"
   ]
  },
  {
   "cell_type": "code",
   "execution_count": 47,
   "metadata": {
    "id": "8emz_sBZH2GL"
   },
   "outputs": [
    {
     "name": "stdout",
     "output_type": "stream",
     "text": [
      "What were the average number of births that took place per month?\n",
      "What were the average number of deaths that took place per month?\n"
     ]
    },
    {
     "data": {
      "text/html": [
       "<div>\n",
       "<style scoped>\n",
       "    .dataframe tbody tr th:only-of-type {\n",
       "        vertical-align: middle;\n",
       "    }\n",
       "\n",
       "    .dataframe tbody tr th {\n",
       "        vertical-align: top;\n",
       "    }\n",
       "\n",
       "    .dataframe thead th {\n",
       "        text-align: right;\n",
       "    }\n",
       "</style>\n",
       "<table border=\"1\" class=\"dataframe\">\n",
       "  <thead>\n",
       "    <tr style=\"text-align: right;\">\n",
       "      <th></th>\n",
       "      <th>births</th>\n",
       "      <th>deaths</th>\n",
       "      <th>year</th>\n",
       "    </tr>\n",
       "  </thead>\n",
       "  <tbody>\n",
       "    <tr>\n",
       "      <th>count</th>\n",
       "      <td>98.00</td>\n",
       "      <td>98.00</td>\n",
       "      <td>98.00</td>\n",
       "    </tr>\n",
       "    <tr>\n",
       "      <th>mean</th>\n",
       "      <td>267.00</td>\n",
       "      <td>22.47</td>\n",
       "      <td>1,844.67</td>\n",
       "    </tr>\n",
       "    <tr>\n",
       "      <th>std</th>\n",
       "      <td>41.77</td>\n",
       "      <td>18.14</td>\n",
       "      <td>2.38</td>\n",
       "    </tr>\n",
       "    <tr>\n",
       "      <th>min</th>\n",
       "      <td>190.00</td>\n",
       "      <td>0.00</td>\n",
       "      <td>1,841.00</td>\n",
       "    </tr>\n",
       "    <tr>\n",
       "      <th>25%</th>\n",
       "      <td>242.50</td>\n",
       "      <td>8.00</td>\n",
       "      <td>1,843.00</td>\n",
       "    </tr>\n",
       "    <tr>\n",
       "      <th>50%</th>\n",
       "      <td>264.00</td>\n",
       "      <td>16.50</td>\n",
       "      <td>1,845.00</td>\n",
       "    </tr>\n",
       "    <tr>\n",
       "      <th>75%</th>\n",
       "      <td>292.75</td>\n",
       "      <td>36.75</td>\n",
       "      <td>1,847.00</td>\n",
       "    </tr>\n",
       "    <tr>\n",
       "      <th>max</th>\n",
       "      <td>406.00</td>\n",
       "      <td>75.00</td>\n",
       "      <td>1,849.00</td>\n",
       "    </tr>\n",
       "  </tbody>\n",
       "</table>\n",
       "</div>"
      ],
      "text/plain": [
       "       births  deaths     year\n",
       "count   98.00   98.00    98.00\n",
       "mean   267.00   22.47 1,844.67\n",
       "std     41.77   18.14     2.38\n",
       "min    190.00    0.00 1,841.00\n",
       "25%    242.50    8.00 1,843.00\n",
       "50%    264.00   16.50 1,845.00\n",
       "75%    292.75   36.75 1,847.00\n",
       "max    406.00   75.00 1,849.00"
      ]
     },
     "execution_count": 47,
     "metadata": {},
     "output_type": "execute_result"
    }
   ],
   "source": [
    "print(\"What were the average number of births that took place per month?\")\n",
    "print(\"What were the average number of deaths that took place per month?\")\n",
    "df_monthly.describe()"
   ]
  },
  {
   "cell_type": "markdown",
   "metadata": {
    "id": "RzhICI3I63d3"
   },
   "source": [
    "### Percentage of Women Dying in Childbirth\n",
    "\n",
    "**Challenge**: How dangerous was childbirth in the 1840s in Vienna? \n",
    "\n",
    "* Using the annual data, calculate the percentage of women giving birth who died throughout the 1840s at the hospital.\n",
    "\n",
    "\n",
    "In comparison, the United States recorded 18.5 maternal deaths per 100,000 or 0.018% in 2013 [(source).](\n",
    "https://en.wikipedia.org/wiki/Maternal_death#:~:text=The%20US%20has%20the%20%22highest,17.8%20per%20100%2C000%20in%202009)"
   ]
  },
  {
   "cell_type": "code",
   "execution_count": 57,
   "metadata": {
    "id": "qWcjo7O5H3g3"
   },
   "outputs": [
    {
     "data": {
      "text/html": [
       "<div>\n",
       "<style scoped>\n",
       "    .dataframe tbody tr th:only-of-type {\n",
       "        vertical-align: middle;\n",
       "    }\n",
       "\n",
       "    .dataframe tbody tr th {\n",
       "        vertical-align: top;\n",
       "    }\n",
       "\n",
       "    .dataframe thead th {\n",
       "        text-align: right;\n",
       "    }\n",
       "</style>\n",
       "<table border=\"1\" class=\"dataframe\">\n",
       "  <thead>\n",
       "    <tr style=\"text-align: right;\">\n",
       "      <th></th>\n",
       "      <th>births</th>\n",
       "      <th>deaths</th>\n",
       "      <th>percentage_deaths</th>\n",
       "    </tr>\n",
       "    <tr>\n",
       "      <th>year</th>\n",
       "      <th></th>\n",
       "      <th></th>\n",
       "      <th></th>\n",
       "    </tr>\n",
       "  </thead>\n",
       "  <tbody>\n",
       "    <tr>\n",
       "      <th>1841</th>\n",
       "      <td>2576</td>\n",
       "      <td>185</td>\n",
       "      <td>7.18</td>\n",
       "    </tr>\n",
       "    <tr>\n",
       "      <th>1842</th>\n",
       "      <td>3067</td>\n",
       "      <td>521</td>\n",
       "      <td>16.99</td>\n",
       "    </tr>\n",
       "    <tr>\n",
       "      <th>1843</th>\n",
       "      <td>2871</td>\n",
       "      <td>274</td>\n",
       "      <td>9.54</td>\n",
       "    </tr>\n",
       "    <tr>\n",
       "      <th>1844</th>\n",
       "      <td>2918</td>\n",
       "      <td>260</td>\n",
       "      <td>8.91</td>\n",
       "    </tr>\n",
       "    <tr>\n",
       "      <th>1845</th>\n",
       "      <td>3253</td>\n",
       "      <td>241</td>\n",
       "      <td>7.41</td>\n",
       "    </tr>\n",
       "    <tr>\n",
       "      <th>1846</th>\n",
       "      <td>3352</td>\n",
       "      <td>459</td>\n",
       "      <td>13.69</td>\n",
       "    </tr>\n",
       "    <tr>\n",
       "      <th>1847</th>\n",
       "      <td>3375</td>\n",
       "      <td>176</td>\n",
       "      <td>5.21</td>\n",
       "    </tr>\n",
       "    <tr>\n",
       "      <th>1848</th>\n",
       "      <td>3556</td>\n",
       "      <td>45</td>\n",
       "      <td>1.27</td>\n",
       "    </tr>\n",
       "    <tr>\n",
       "      <th>1849</th>\n",
       "      <td>1198</td>\n",
       "      <td>41</td>\n",
       "      <td>3.42</td>\n",
       "    </tr>\n",
       "  </tbody>\n",
       "</table>\n",
       "</div>"
      ],
      "text/plain": [
       "      births  deaths  percentage_deaths\n",
       "year                                   \n",
       "1841    2576     185               7.18\n",
       "1842    3067     521              16.99\n",
       "1843    2871     274               9.54\n",
       "1844    2918     260               8.91\n",
       "1845    3253     241               7.41\n",
       "1846    3352     459              13.69\n",
       "1847    3375     176               5.21\n",
       "1848    3556      45               1.27\n",
       "1849    1198      41               3.42"
      ]
     },
     "execution_count": 57,
     "metadata": {},
     "output_type": "execute_result"
    }
   ],
   "source": [
    "df_monthly.head()\n",
    "df_death_per_year = df_monthly.groupby(by = [\"year\"]).sum()\n",
    "df_death_per_year[\"percentage_deaths\"] = 100*df_death_per_year.deaths/df_death_per_year.births\n",
    "df_death_per_year"
   ]
  },
  {
   "cell_type": "markdown",
   "metadata": {
    "id": "SSOrUkmx63d6"
   },
   "source": [
    "# Visualise the Total Number of Births 🤱 and Deaths 💀 over Time"
   ]
  },
  {
   "cell_type": "markdown",
   "metadata": {
    "id": "z88_SbNf63d6"
   },
   "source": [
    "### Plot the Monthly Data on Twin Axes\n",
    "\n",
    "**Challenge**: Create a [Matplotlib chart](https://matplotlib.org/3.3.2/api/_as_gen/matplotlib.pyplot.plot.html) with twin y-axes. It should look something like this:\n",
    "\n",
    "<img src=https://i.imgur.com/F9DOJxx.png width=700>\n",
    "\n",
    "* Format the x-axis using locators for the years and months (Hint: we did this in the Google Trends notebook)\n",
    "* Set the range on the x-axis so that the chart lines touch the y-axes\n",
    "* Add gridlines\n",
    "* Use `skyblue` and `crimson` for the line colours\n",
    "* Use a dashed line style for the number of deaths\n",
    "* Change the line thickness to 3 and 2 for the births and deaths respectively. \n",
    "* Do you notice anything in the late 1840s?"
   ]
  },
  {
   "cell_type": "code",
   "execution_count": 80,
   "metadata": {
    "id": "pSeMQxKMH52c"
   },
   "outputs": [
    {
     "data": {
      "image/png": "[encoded data removed]",
      "text/plain": [
       "<Figure size 720x576 with 2 Axes>"
      ]
     },
     "metadata": {},
     "output_type": "display_data"
    }
   ],
   "source": [
    "import numpy as np\n",
    "import matplotlib.pyplot as plt\n",
    "\n",
    "# Create data\n",
    "data1 = df_monthly.births\n",
    "data2 = df_monthly.deaths\n",
    "t = df_monthly.date\n",
    "\n",
    "fig, ax1 = plt.subplots(figsize=(10,8))\n",
    "\n",
    "color = 'skyblue'\n",
    "ax1.set_xlabel('Years')\n",
    "ax1.set_ylabel('Births', color=color)\n",
    "ax1.plot(t, data1, color=color,linewidth=3)\n",
    "ax1.tick_params(axis='y', labelcolor=color)\n",
    "\n",
    "ax2 = ax1.twinx()  # instantiate a second axes that shares the same x-axis\n",
    "\n",
    "color = 'crimson'\n",
    "ax2.set_ylabel('Deaths', color=color)  # we already handled the x-label with ax1\n",
    "ax2.plot(t, data2, color=color, linestyle='dashed',linewidth=2)\n",
    "ax2.tick_params(axis='y', labelcolor=color)\n",
    "\n",
    "fig.tight_layout()  # otherwise the right y-label is slightly clipped\n",
    "plt.title(\"Total Number of Monthly Births or Deaths\")\n",
    "\n",
    "plt.show()"
   ]
  },
  {
   "cell_type": "markdown",
   "metadata": {
    "id": "mpg4uvsl63d9"
   },
   "source": [
    "# The Yearly Data Split by Clinic\n",
    "\n",
    "Now let's look at the annual data instead. \n",
    "\n",
    "**Challenge**: Use plotly to create line charts of the births and deaths of the two different clinics at the Vienna General Hospital. \n",
    "* Which clinic is bigger or more busy judging by the number of births?\n",
    "* Has the hospital had more patients over time? \n",
    "* What was the highest number of deaths recorded in clinic 1 and clinic 2?"
   ]
  },
  {
   "cell_type": "code",
   "execution_count": 90,
   "metadata": {
    "id": "Xg65zUR8H7c2"
   },
   "outputs": [
    {
     "data": {
      "image/png": "[encoded data removed]",
      "text/plain": [
       "<Figure size 720x576 with 2 Axes>"
      ]
     },
     "metadata": {},
     "output_type": "display_data"
    }
   ],
   "source": [
    "import numpy as np\n",
    "import matplotlib.pyplot as plt\n",
    "\n",
    "# Create data\n",
    "data1 = df_yearly_clinic1.deaths\n",
    "data2 = df_yearly_clinic2.deaths\n",
    "t = df_yearly_clinic1.year\n",
    "\n",
    "fig, ax1 = plt.subplots(figsize=(10,8))\n",
    "\n",
    "color = 'skyblue'\n",
    "ax1.set_xlabel('Years')\n",
    "ax1.set_ylabel('Deaths in the clinic 1', color=color)\n",
    "ax1.plot(t, data1, color=color,linewidth=3)\n",
    "ax1.tick_params(axis='y', labelcolor=color)\n",
    "\n",
    "ax2 = ax1.twinx()  # instantiate a second axes that shares the same x-axis\n",
    "\n",
    "color = 'crimson'\n",
    "ax2.set_ylabel('Deaths in the clinic 2', color=color)  # we already handled the x-label with ax1\n",
    "ax2.plot(t, data2, color=color, linestyle='dashed',linewidth=3)\n",
    "ax2.tick_params(axis='y', labelcolor=color)\n",
    "\n",
    "fig.tight_layout()  # otherwise the right y-label is slightly clipped\n",
    "plt.title(\"Total Number of Deaths in clinic 1 and 2\")\n",
    "\n",
    "plt.show()"
   ]
  },
  {
   "cell_type": "code",
   "execution_count": 88,
   "metadata": {
    "id": "4aTJqbcVH9MG"
   },
   "outputs": [
    {
     "data": {
      "image/png": "[encoded data removed]",
      "text/plain": [
       "<Figure size 720x576 with 2 Axes>"
      ]
     },
     "metadata": {},
     "output_type": "display_data"
    }
   ],
   "source": [
    "import numpy as np\n",
    "import matplotlib.pyplot as plt\n",
    "\n",
    "# Create data\n",
    "data1 = df_yearly_clinic1.births\n",
    "data2 = df_yearly_clinic2.births\n",
    "t = df_yearly_clinic1.year\n",
    "\n",
    "fig, ax1 = plt.subplots(figsize=(10,8))\n",
    "\n",
    "color = 'skyblue'\n",
    "ax1.set_xlabel('Years')\n",
    "ax1.set_ylabel('Births in the clinic 1', color=color)\n",
    "ax1.plot(t, data1, color=color,linewidth=3)\n",
    "ax1.tick_params(axis='y', labelcolor=color)\n",
    "\n",
    "ax2 = ax1.twinx()  # instantiate a second axes that shares the same x-axis\n",
    "\n",
    "color = 'crimson'\n",
    "ax2.set_ylabel('Births in the clinic 2', color=color)  # we already handled the x-label with ax1\n",
    "ax2.plot(t, data2, color=color, linestyle='dashed',linewidth=3)\n",
    "ax2.tick_params(axis='y', labelcolor=color)\n",
    "\n",
    "fig.tight_layout()  # otherwise the right y-label is slightly clipped\n",
    "plt.title(\"Total Number of Births in clinic 1 and 2\")\n",
    "\n",
    "plt.show()"
   ]
  },
  {
   "cell_type": "markdown",
   "metadata": {
    "dc": {
     "key": "2bc9206960"
    },
    "id": "0M63EmW563eE",
    "run_control": {
     "frozen": true
    },
    "tags": [
     "context"
    ]
   },
   "source": [
    "### Calculate the Proportion of Deaths at Each Clinic"
   ]
  },
  {
   "cell_type": "markdown",
   "metadata": {
    "id": "SWnxkKx963eE"
   },
   "source": [
    "**Challenge**: Calculate the proportion of maternal deaths per clinic. That way we can compare like with like. \n",
    "* Work out the percentage of deaths for each row in the `df_yearly` DataFrame by adding a column called \"pct_deaths\". \n",
    "* Calculate the average maternal death rate for clinic 1 and clinic 2 (i.e., the total number of deaths per the total number of births).\n",
    "* Create another plotly line chart to see how the percentage varies year over year with the two different clinics.\n",
    "* Which clinic has a higher proportion of deaths?\n",
    "* What is the highest monthly death rate in clinic 1 compared to clinic 2?"
   ]
  },
  {
   "cell_type": "code",
   "execution_count": 97,
   "metadata": {
    "id": "1His6I9tH-U7"
   },
   "outputs": [
    {
     "name": "stdout",
     "output_type": "stream",
     "text": [
      "Calculate the average maternal death rate for clinic 1 and clinic 2 (i.e., the total number of deaths per the total number of births)\n",
      "The average percentage of deaths in clinic 1 is 9.850527202171271\n",
      "The average percentage of deaths in clinic 2 is 4.039993689236436\n"
     ]
    }
   ],
   "source": [
    "print(\"Calculate the average maternal death rate for clinic 1 and clinic 2 (i.e., the total number of deaths per the total number of births)\")\n",
    "df_yearly[\"pct_deaths\"] = 100*df_yearly.deaths/df_yearly.births\n",
    "print(\"The average percentage of deaths in clinic 1 is\",str(df_yearly[df_yearly.clinic == \"clinic 1\"].pct_deaths.mean()))\n",
    "print(\"The average percentage of deaths in clinic 2 is\",str(df_yearly[df_yearly.clinic == \"clinic 2\"].pct_deaths.mean()))"
   ]
  },
  {
   "cell_type": "markdown",
   "metadata": {
    "id": "sX47nwJMRxWR"
   },
   "source": [
    "### Plotting the Proportion of Yearly Deaths by Clinic"
   ]
  },
  {
   "cell_type": "code",
   "execution_count": 106,
   "metadata": {
    "id": "gRxQwbovH__L"
   },
   "outputs": [
    {
     "name": "stdout",
     "output_type": "stream",
     "text": [
      "Create another plotly line chart to see how the percentage varies year over year with the two different clinics.\n"
     ]
    },
    {
     "name": "stderr",
     "output_type": "stream",
     "text": [
      "C:\\Users\\848105\\AppData\\Local\\Temp\\5\\ipykernel_6536\\3955390012.py:2: SettingWithCopyWarning: \n",
      "A value is trying to be set on a copy of a slice from a DataFrame.\n",
      "Try using .loc[row_indexer,col_indexer] = value instead\n",
      "\n",
      "See the caveats in the documentation: https://pandas.pydata.org/pandas-docs/stable/user_guide/indexing.html#returning-a-view-versus-a-copy\n",
      "  df_yearly_clinic1[\"pct_deaths\"] = 100*df_yearly_clinic1.deaths/df_yearly_clinic1.births\n",
      "C:\\Users\\848105\\AppData\\Local\\Temp\\5\\ipykernel_6536\\3955390012.py:3: SettingWithCopyWarning: \n",
      "A value is trying to be set on a copy of a slice from a DataFrame.\n",
      "Try using .loc[row_indexer,col_indexer] = value instead\n",
      "\n",
      "See the caveats in the documentation: https://pandas.pydata.org/pandas-docs/stable/user_guide/indexing.html#returning-a-view-versus-a-copy\n",
      "  df_yearly_clinic2[\"pct_deaths\"] = 100*df_yearly_clinic2.deaths/df_yearly_clinic2.births\n"
     ]
    },
    {
     "data": {
      "image/png": "[encoded data removed]",
      "text/plain": [
       "<Figure size 720x576 with 2 Axes>"
      ]
     },
     "metadata": {},
     "output_type": "display_data"
    }
   ],
   "source": [
    "print(\"Create another plotly line chart to see how the percentage varies year over year with the two different clinics.\")\n",
    "df_yearly_clinic1[\"pct_deaths\"] = 100*df_yearly_clinic1.deaths/df_yearly_clinic1.births\n",
    "df_yearly_clinic2[\"pct_deaths\"] = 100*df_yearly_clinic2.deaths/df_yearly_clinic2.births\n",
    "import numpy as np\n",
    "import matplotlib.pyplot as plt\n",
    "\n",
    "# Create data\n",
    "data1 = df_yearly_clinic1.pct_deaths\n",
    "data2 = df_yearly_clinic2.pct_deaths\n",
    "t = df_yearly_clinic1.year\n",
    "\n",
    "fig, ax1 = plt.subplots(figsize=(10,8))\n",
    "\n",
    "color = 'skyblue'\n",
    "ax1.set_xlabel('Years')\n",
    "ax1.set_ylabel('Death percentage in the clinic 1', color=color)\n",
    "ax1.plot(t, data1, color=color,linewidth=3)\n",
    "ax1.tick_params(axis='y', labelcolor=color)\n",
    "\n",
    "ax2 = ax1.twinx()  # instantiate a second axes that shares the same x-axis\n",
    "\n",
    "color = 'crimson'\n",
    "ax2.set_ylabel('Death percentage in the clinic 2', color=color)  # we already handled the x-label with ax1\n",
    "ax2.plot(t, data2, color=color, linestyle='dashed',linewidth=3)\n",
    "ax2.tick_params(axis='y', labelcolor=color)\n",
    "\n",
    "fig.tight_layout()  # otherwise the right y-label is slightly clipped\n",
    "plt.title(\"Death percentage in clinic 1 and 2\")\n",
    "\n",
    "plt.show()"
   ]
  },
  {
   "cell_type": "markdown",
   "metadata": {
    "dc": {
     "key": "518e95acc5"
    },
    "id": "ggep-emG63eX",
    "run_control": {
     "frozen": true
    },
    "tags": [
     "context"
    ]
   },
   "source": [
    "# The Effect of Handwashing\n",
    "\n",
    "Dr Semmelweis made handwashing obligatory in the summer of 1947. In fact, he ordered people to wash their hands with clorine (instead of water)."
   ]
  },
  {
   "cell_type": "code",
   "execution_count": 107,
   "metadata": {
    "id": "QFN7gYTD63eX"
   },
   "outputs": [],
   "source": [
    "# Date when handwashing was made mandatory\n",
    "handwashing_start = pd.to_datetime('1847-06-01')"
   ]
  },
  {
   "cell_type": "markdown",
   "metadata": {
    "id": "xzsKlZ8CSNkM"
   },
   "source": [
    "**Challenge**: \n",
    "* Add a column called \"pct_deaths\" to `df_monthly` that has the percentage of deaths per birth for each row. \n",
    "* Create two subsets from the `df_monthly` data: before and after Dr Semmelweis ordered washing hand.\n",
    "* Calculate the average death rate prior to June 1947.\n",
    "* Calculate the average death rate after June 1947."
   ]
  },
  {
   "cell_type": "code",
   "execution_count": 111,
   "metadata": {
    "id": "Zv47y222ICFE"
   },
   "outputs": [
    {
     "data": {
      "image/png": "[encoded data removed]",
      "text/plain": [
       "<Figure size 720x576 with 1 Axes>"
      ]
     },
     "metadata": {},
     "output_type": "display_data"
    }
   ],
   "source": [
    "df_monthly[\"pct_deaths\"] = 100*df_monthly.deaths/df_monthly.births\n",
    "import numpy as np\n",
    "import matplotlib.pyplot as plt\n",
    "\n",
    "# Create data\n",
    "data1 = df_monthly.pct_deaths\n",
    "t = df_monthly.date\n",
    "\n",
    "fig, ax1 = plt.subplots(figsize=(10,8))\n",
    "\n",
    "color = 'skyblue'\n",
    "ax1.set_xlabel('Years')\n",
    "ax1.set_ylabel('Death percentages', color=color)\n",
    "ax1.plot(t, data1, color=color,linewidth=3)\n",
    "ax1.tick_params(axis='y', labelcolor=color)\n",
    "\n",
    "\n",
    "fig.tight_layout()  # otherwise the right y-label is slightly clipped\n",
    "plt.title(\"Death percentage accros the years\")\n",
    "\n",
    "plt.show()"
   ]
  },
  {
   "cell_type": "code",
   "execution_count": 115,
   "metadata": {
    "id": "uwVulybHIBk_"
   },
   "outputs": [
    {
     "name": "stdout",
     "output_type": "stream",
     "text": [
      "Calculate the average death rate prior to June 1947\n"
     ]
    },
    {
     "data": {
      "text/plain": [
       "9.875319855941402"
      ]
     },
     "execution_count": 115,
     "metadata": {},
     "output_type": "execute_result"
    }
   ],
   "source": [
    "print(\"Calculate the average death rate prior to June 1947\")\n",
    "df_monthly[df_monthly.year <= 1847].pct_deaths.mean()"
   ]
  },
  {
   "cell_type": "markdown",
   "metadata": {
    "id": "BgX_WAt0rcmf"
   },
   "source": [
    "### Calculate a Rolling Average of the Death Rate"
   ]
  },
  {
   "cell_type": "markdown",
   "metadata": {
    "id": "q8oeZj6kpZFl"
   },
   "source": [
    "**Challenge**: Create a DataFrame that has the 6 month rolling average death rate prior to mandatory handwashing.\n",
    "\n",
    "*Hint*: You'll need to set the dates as the index in order to avoid the date column being dropped during the calculation."
   ]
  },
  {
   "cell_type": "code",
   "execution_count": null,
   "metadata": {
    "id": "xh5skyLJIGJF"
   },
   "outputs": [],
   "source": [
    "print(\"Create another plotly line chart to see how the percentage varies year over year with the two different clinics.\")\n",
    "df_yearly_clinic1[\"pct_deaths\"] = 100*df_yearly_clinic1.deaths/df_yearly_clinic1.births\n",
    "df_yearly_clinic2[\"pct_deaths\"] = 100*df_yearly_clinic2.deaths/df_yearly_clinic2.births\n",
    "import numpy as np\n",
    "import matplotlib.pyplot as plt\n",
    "\n",
    "# Create data\n",
    "data1 = df_yearly_clinic1.pct_deaths\n",
    "data2 = df_yearly_clinic2.pct_deaths\n",
    "t = df_yearly_clinic1.year\n",
    "\n",
    "fig, ax1 = plt.subplots(figsize=(10,8))\n",
    "\n",
    "color = 'skyblue'\n",
    "ax1.set_xlabel('Years')\n",
    "ax1.set_ylabel('Death percentage in the clinic 1', color=color)\n",
    "ax1.plot(t, data1, color=color,linewidth=3)\n",
    "ax1.tick_params(axis='y', labelcolor=color)\n",
    "\n",
    "ax2 = ax1.twinx()  # instantiate a second axes that shares the same x-axis\n",
    "\n",
    "color = 'crimson'\n",
    "ax2.set_ylabel('Death percentage in the clinic 2', color=color)  # we already handled the x-label with ax1\n",
    "ax2.plot(t, data2, color=color, linestyle='dashed',linewidth=3)\n",
    "ax2.tick_params(axis='y', labelcolor=color)\n",
    "\n",
    "ax3 = ax1.twinx()  # instantiate a second axes that shares the same x-axis\n",
    "\n",
    "color = 'crimson'\n",
    "ax3.set_ylabel('Death percentage in the clinic 2', color=color)  # we already handled the x-label with ax1\n",
    "ax3.plot(t, data2, color=color, linestyle='dashed',linewidth=3)\n",
    "ax3.tick_params(axis='y', labelcolor=color)\n",
    "\n",
    "fig.tight_layout()  # otherwise the right y-label is slightly clipped\n",
    "plt.title(\"Death percentage in clinic 1 and 2\")\n",
    "\n",
    "plt.show()"
   ]
  },
  {
   "cell_type": "code",
   "execution_count": 119,
   "metadata": {},
   "outputs": [
    {
     "data": {
      "text/html": [
       "<div>\n",
       "<style scoped>\n",
       "    .dataframe tbody tr th:only-of-type {\n",
       "        vertical-align: middle;\n",
       "    }\n",
       "\n",
       "    .dataframe tbody tr th {\n",
       "        vertical-align: top;\n",
       "    }\n",
       "\n",
       "    .dataframe thead th {\n",
       "        text-align: right;\n",
       "    }\n",
       "</style>\n",
       "<table border=\"1\" class=\"dataframe\">\n",
       "  <thead>\n",
       "    <tr style=\"text-align: right;\">\n",
       "      <th></th>\n",
       "      <th>date</th>\n",
       "      <th>births</th>\n",
       "      <th>deaths</th>\n",
       "      <th>year</th>\n",
       "      <th>pct_deaths</th>\n",
       "    </tr>\n",
       "  </thead>\n",
       "  <tbody>\n",
       "    <tr>\n",
       "      <th>77</th>\n",
       "      <td>1847-07-01</td>\n",
       "      <td>250</td>\n",
       "      <td>3</td>\n",
       "      <td>1847</td>\n",
       "      <td>1.20</td>\n",
       "    </tr>\n",
       "    <tr>\n",
       "      <th>78</th>\n",
       "      <td>1847-08-01</td>\n",
       "      <td>264</td>\n",
       "      <td>5</td>\n",
       "      <td>1847</td>\n",
       "      <td>1.89</td>\n",
       "    </tr>\n",
       "    <tr>\n",
       "      <th>79</th>\n",
       "      <td>1847-09-01</td>\n",
       "      <td>262</td>\n",
       "      <td>12</td>\n",
       "      <td>1847</td>\n",
       "      <td>4.58</td>\n",
       "    </tr>\n",
       "    <tr>\n",
       "      <th>80</th>\n",
       "      <td>1847-10-01</td>\n",
       "      <td>278</td>\n",
       "      <td>11</td>\n",
       "      <td>1847</td>\n",
       "      <td>3.96</td>\n",
       "    </tr>\n",
       "    <tr>\n",
       "      <th>81</th>\n",
       "      <td>1847-11-01</td>\n",
       "      <td>246</td>\n",
       "      <td>11</td>\n",
       "      <td>1847</td>\n",
       "      <td>4.47</td>\n",
       "    </tr>\n",
       "    <tr>\n",
       "      <th>82</th>\n",
       "      <td>1847-12-01</td>\n",
       "      <td>273</td>\n",
       "      <td>8</td>\n",
       "      <td>1847</td>\n",
       "      <td>2.93</td>\n",
       "    </tr>\n",
       "    <tr>\n",
       "      <th>83</th>\n",
       "      <td>1848-01-01</td>\n",
       "      <td>283</td>\n",
       "      <td>10</td>\n",
       "      <td>1848</td>\n",
       "      <td>3.53</td>\n",
       "    </tr>\n",
       "    <tr>\n",
       "      <th>84</th>\n",
       "      <td>1848-02-01</td>\n",
       "      <td>291</td>\n",
       "      <td>2</td>\n",
       "      <td>1848</td>\n",
       "      <td>0.69</td>\n",
       "    </tr>\n",
       "    <tr>\n",
       "      <th>85</th>\n",
       "      <td>1848-03-01</td>\n",
       "      <td>276</td>\n",
       "      <td>0</td>\n",
       "      <td>1848</td>\n",
       "      <td>0.00</td>\n",
       "    </tr>\n",
       "    <tr>\n",
       "      <th>86</th>\n",
       "      <td>1848-04-01</td>\n",
       "      <td>305</td>\n",
       "      <td>2</td>\n",
       "      <td>1848</td>\n",
       "      <td>0.66</td>\n",
       "    </tr>\n",
       "    <tr>\n",
       "      <th>87</th>\n",
       "      <td>1848-05-01</td>\n",
       "      <td>313</td>\n",
       "      <td>3</td>\n",
       "      <td>1848</td>\n",
       "      <td>0.96</td>\n",
       "    </tr>\n",
       "    <tr>\n",
       "      <th>88</th>\n",
       "      <td>1848-06-01</td>\n",
       "      <td>264</td>\n",
       "      <td>3</td>\n",
       "      <td>1848</td>\n",
       "      <td>1.14</td>\n",
       "    </tr>\n",
       "    <tr>\n",
       "      <th>89</th>\n",
       "      <td>1848-07-01</td>\n",
       "      <td>269</td>\n",
       "      <td>1</td>\n",
       "      <td>1848</td>\n",
       "      <td>0.37</td>\n",
       "    </tr>\n",
       "    <tr>\n",
       "      <th>90</th>\n",
       "      <td>1848-08-01</td>\n",
       "      <td>261</td>\n",
       "      <td>0</td>\n",
       "      <td>1848</td>\n",
       "      <td>0.00</td>\n",
       "    </tr>\n",
       "    <tr>\n",
       "      <th>91</th>\n",
       "      <td>1848-09-01</td>\n",
       "      <td>312</td>\n",
       "      <td>3</td>\n",
       "      <td>1848</td>\n",
       "      <td>0.96</td>\n",
       "    </tr>\n",
       "    <tr>\n",
       "      <th>92</th>\n",
       "      <td>1848-10-01</td>\n",
       "      <td>299</td>\n",
       "      <td>7</td>\n",
       "      <td>1848</td>\n",
       "      <td>2.34</td>\n",
       "    </tr>\n",
       "    <tr>\n",
       "      <th>93</th>\n",
       "      <td>1848-11-01</td>\n",
       "      <td>310</td>\n",
       "      <td>9</td>\n",
       "      <td>1848</td>\n",
       "      <td>2.90</td>\n",
       "    </tr>\n",
       "    <tr>\n",
       "      <th>94</th>\n",
       "      <td>1848-12-01</td>\n",
       "      <td>373</td>\n",
       "      <td>5</td>\n",
       "      <td>1848</td>\n",
       "      <td>1.34</td>\n",
       "    </tr>\n",
       "    <tr>\n",
       "      <th>95</th>\n",
       "      <td>1849-01-01</td>\n",
       "      <td>403</td>\n",
       "      <td>9</td>\n",
       "      <td>1849</td>\n",
       "      <td>2.23</td>\n",
       "    </tr>\n",
       "    <tr>\n",
       "      <th>96</th>\n",
       "      <td>1849-02-01</td>\n",
       "      <td>389</td>\n",
       "      <td>12</td>\n",
       "      <td>1849</td>\n",
       "      <td>3.08</td>\n",
       "    </tr>\n",
       "    <tr>\n",
       "      <th>97</th>\n",
       "      <td>1849-03-01</td>\n",
       "      <td>406</td>\n",
       "      <td>20</td>\n",
       "      <td>1849</td>\n",
       "      <td>4.93</td>\n",
       "    </tr>\n",
       "  </tbody>\n",
       "</table>\n",
       "</div>"
      ],
      "text/plain": [
       "         date  births  deaths  year  pct_deaths\n",
       "77 1847-07-01     250       3  1847        1.20\n",
       "78 1847-08-01     264       5  1847        1.89\n",
       "79 1847-09-01     262      12  1847        4.58\n",
       "80 1847-10-01     278      11  1847        3.96\n",
       "81 1847-11-01     246      11  1847        4.47\n",
       "82 1847-12-01     273       8  1847        2.93\n",
       "83 1848-01-01     283      10  1848        3.53\n",
       "84 1848-02-01     291       2  1848        0.69\n",
       "85 1848-03-01     276       0  1848        0.00\n",
       "86 1848-04-01     305       2  1848        0.66\n",
       "87 1848-05-01     313       3  1848        0.96\n",
       "88 1848-06-01     264       3  1848        1.14\n",
       "89 1848-07-01     269       1  1848        0.37\n",
       "90 1848-08-01     261       0  1848        0.00\n",
       "91 1848-09-01     312       3  1848        0.96\n",
       "92 1848-10-01     299       7  1848        2.34\n",
       "93 1848-11-01     310       9  1848        2.90\n",
       "94 1848-12-01     373       5  1848        1.34\n",
       "95 1849-01-01     403       9  1849        2.23\n",
       "96 1849-02-01     389      12  1849        3.08\n",
       "97 1849-03-01     406      20  1849        4.93"
      ]
     },
     "execution_count": 119,
     "metadata": {},
     "output_type": "execute_result"
    }
   ],
   "source": [
    "df_monthly_before_1947 = df_monthly[df_monthly.date <= handwashing_start]\n",
    "df_monthly_before_1947\n",
    "df_monthly_after_1947 = df_monthly[df_monthly.date > handwashing_start]\n",
    "df_monthly_after_1947"
   ]
  },
  {
   "cell_type": "code",
   "execution_count": null,
   "metadata": {
    "id": "KImHv9CuIEDQ"
   },
   "outputs": [],
   "source": []
  },
  {
   "cell_type": "markdown",
   "metadata": {
    "id": "nLoDpnv8SzQH"
   },
   "source": [
    "### Highlighting Subsections of a Line Chart\n",
    "\n",
    "**Challenge**: Copy-paste and then modify the Matplotlib chart from before to plot the monthly death rates (instead of the total number of births and deaths). The chart should look something like this:\n",
    "\n",
    "<img src=https://i.imgur.com/X6TQe0R.png width=500>\n",
    "\n",
    "* Add 3 seperate lines to the plot: the death rate before handwashing, after handwashing, and the 6-month moving average before handwashing.\n",
    "* Show the monthly death rate before handwashing as a thin dashed black line. \n",
    "* Show the moving average as a thicker, crimon line.\n",
    "* Show the rate after handwashing as a skyblue line with round markers. \n",
    "* Look at the [code snippet in the documentation to see how you can add a legend](https://matplotlib.org/3.1.1/api/_as_gen/matplotlib.pyplot.legend.html) to the chart."
   ]
  },
  {
   "cell_type": "code",
   "execution_count": 127,
   "metadata": {},
   "outputs": [
    {
     "data": {
      "text/plain": [
       "0     NaN\n",
       "1     NaN\n",
       "2     NaN\n",
       "3     NaN\n",
       "4    5.76\n",
       "     ... \n",
       "93   1.32\n",
       "94   1.51\n",
       "95   1.96\n",
       "96   2.38\n",
       "97   2.90\n",
       "Name: pct_deaths, Length: 98, dtype: float64"
      ]
     },
     "execution_count": 127,
     "metadata": {},
     "output_type": "execute_result"
    }
   ],
   "source": [
    "df_monthly.pct_deaths.rolling(5).mean()"
   ]
  },
  {
   "cell_type": "code",
   "execution_count": 138,
   "metadata": {
    "id": "XPHokmgTIG32"
   },
   "outputs": [
    {
     "data": {
      "image/png": "[encoded data removed]",
      "text/plain": [
       "<Figure size 720x576 with 1 Axes>"
      ]
     },
     "metadata": {
      "needs_background": "light"
     },
     "output_type": "display_data"
    }
   ],
   "source": [
    "import numpy as np\n",
    "import matplotlib.pyplot as plt\n",
    "\n",
    "\n",
    "plt.subplots(figsize=(10,8))\n",
    "data1 = df_monthly_before_1947.pct_deaths\n",
    "data2 = df_monthly_after_1947.pct_deaths\n",
    "data3 = df_monthly.pct_deaths.rolling(6).mean()[0:len(data1)]\n",
    "t1 = df_monthly_before_1947.date\n",
    "t2 = df_monthly_after_1947.date\n",
    "t3 = df_monthly.date[0:len(data1)]\n",
    "plt.plot(t1, data1, label ='Percentage of deaths before 1847',color = \"black\")\n",
    "plt.plot(t2, data2, label ='Percentage of deaths after 1847',color = \"blue\",linestyle = \"dotted\")\n",
    "plt.plot(t3, data3, label ='Rolling average (6)',color = \"red\",linestyle = \"dashed\")\n",
    "\n",
    "plt.title(\"Death percentages across years\")\n",
    "plt.legend()\n",
    "plt.show()"
   ]
  },
  {
   "cell_type": "markdown",
   "metadata": {
    "dc": {
     "key": "586a9f9803"
    },
    "id": "FPiDMwTh63el",
    "run_control": {
     "frozen": true
    },
    "tags": [
     "context"
    ]
   },
   "source": [
    "### Statistics - Calculate the Difference in the Average Monthly Death Rate\n",
    "\n",
    "**Challenge**:\n",
    "* What was the average percentage of monthly deaths before handwashing? \n",
    "* What was the average percentage of monthly deaths after handwashing was made obligatory?\n",
    "* By how much did handwashing reduce the average chance of dying in childbirth in percentage terms?\n",
    "* How do these numbers compare to the average for all the 1840s that we calculated earlier? \n",
    "* How many times lower are the chances of dying after handwashing compared to before?"
   ]
  },
  {
   "cell_type": "code",
   "execution_count": 147,
   "metadata": {
    "id": "HJMSk8xYIIGX"
   },
   "outputs": [
    {
     "name": "stdout",
     "output_type": "stream",
     "text": [
      "What was the average percentage of monthly deaths before handwashing?\n",
      "10.397645114275546\n",
      "What was the average percentage of monthly deaths after handwashing was made obligatory?\n",
      "2.103172344943368\n",
      "By how much did handwashing reduce the average chance of dying in childbirth in percentage terms?\n",
      "8.294472769332177\n",
      "How many times lower are the chances of dying after handwashing compared to before?\n",
      "4.943791287135588\n"
     ]
    }
   ],
   "source": [
    "print(\"What was the average percentage of monthly deaths before handwashing?\")\n",
    "print(df_monthly_before_1947.pct_deaths.mean())\n",
    "print(\"What was the average percentage of monthly deaths after handwashing was made obligatory?\")\n",
    "print(df_monthly_after_1947.pct_deaths.mean())\n",
    "print(\"By how much did handwashing reduce the average chance of dying in childbirth in percentage terms?\")\n",
    "print(df_monthly_before_1947.pct_deaths.mean() - df_monthly_after_1947.pct_deaths.mean())\n",
    "print(\"How many times lower are the chances of dying after handwashing compared to before?\")\n",
    "print(df_monthly_before_1947.pct_deaths.mean()/df_monthly_after_1947.pct_deaths.mean())"
   ]
  },
  {
   "cell_type": "markdown",
   "metadata": {
    "id": "oqBw_uL963eh"
   },
   "source": [
    "### Use Box Plots to Show How the Death Rate Changed Before and After Handwashing\n",
    "\n",
    "**Challenge**: \n",
    "* Use [NumPy's `.where()` function](https://numpy.org/doc/stable/reference/generated/numpy.where.html) to add a column to `df_monthly` that shows if a particular date was before or after the start of handwashing. \n",
    "* Then use plotly to create box plot of the data before and after handwashing. \n",
    "* How did key statistics like the mean, max, min, 1st and 3rd quartile changed as a result of the new policy?\n",
    "\n"
   ]
  },
  {
   "cell_type": "code",
   "execution_count": 149,
   "metadata": {
    "id": "RVqz63Y9IJXg"
   },
   "outputs": [
    {
     "data": {
      "text/plain": [
       "<AxesSubplot:xlabel='year', ylabel='pct_deaths'>"
      ]
     },
     "execution_count": 149,
     "metadata": {},
     "output_type": "execute_result"
    },
    {
     "data": {
      "image/png": "[encoded data removed]",
      "text/plain": [
       "<Figure size 432x288 with 1 Axes>"
      ]
     },
     "metadata": {
      "needs_background": "light"
     },
     "output_type": "display_data"
    }
   ],
   "source": [
    "import seaborn as sns\n",
    "\n",
    "# Box plot by group\n",
    "sns.boxplot(y = df_monthly.pct_deaths,\n",
    "            x = df_monthly.year)"
   ]
  },
  {
   "cell_type": "markdown",
   "metadata": {
    "id": "7CPfSdgt63en"
   },
   "source": [
    "### Use Histograms to Visualise the Monthly Distribution of Outcomes\n",
    "\n",
    "**Challenge**: Create a [plotly histogram](https://plotly.com/python/histograms/) to show the monthly percentage of deaths. \n",
    "\n",
    "* Use docs to check out the available parameters. Use the [`color` parameter](https://plotly.github.io/plotly.py-docs/generated/plotly.express.histogram.html) to display two overlapping histograms.\n",
    "* The time period of handwashing is shorter than not handwashing. Change `histnorm` to `percent` to make the time periods comparable. \n",
    "* Make the histograms slighlty transparent\n",
    "* Experiment with the number of bins on the histogram. Which number work well in communicating the range of outcomes?\n",
    "* Just for fun, display your box plot on the top of the histogram using the `marginal` parameter. "
   ]
  },
  {
   "cell_type": "code",
   "execution_count": 156,
   "metadata": {},
   "outputs": [
    {
     "data": {
      "text/html": [
       "<div>\n",
       "<style scoped>\n",
       "    .dataframe tbody tr th:only-of-type {\n",
       "        vertical-align: middle;\n",
       "    }\n",
       "\n",
       "    .dataframe tbody tr th {\n",
       "        vertical-align: top;\n",
       "    }\n",
       "\n",
       "    .dataframe thead th {\n",
       "        text-align: right;\n",
       "    }\n",
       "</style>\n",
       "<table border=\"1\" class=\"dataframe\">\n",
       "  <thead>\n",
       "    <tr style=\"text-align: right;\">\n",
       "      <th></th>\n",
       "      <th>date</th>\n",
       "      <th>births</th>\n",
       "      <th>deaths</th>\n",
       "      <th>year</th>\n",
       "      <th>pct_deaths</th>\n",
       "      <th>before</th>\n",
       "    </tr>\n",
       "  </thead>\n",
       "  <tbody>\n",
       "    <tr>\n",
       "      <th>0</th>\n",
       "      <td>1841-01-01</td>\n",
       "      <td>254</td>\n",
       "      <td>37</td>\n",
       "      <td>1841</td>\n",
       "      <td>14.57</td>\n",
       "      <td>Before Handashing</td>\n",
       "    </tr>\n",
       "    <tr>\n",
       "      <th>1</th>\n",
       "      <td>1841-02-01</td>\n",
       "      <td>239</td>\n",
       "      <td>18</td>\n",
       "      <td>1841</td>\n",
       "      <td>7.53</td>\n",
       "      <td>Before Handashing</td>\n",
       "    </tr>\n",
       "    <tr>\n",
       "      <th>2</th>\n",
       "      <td>1841-03-01</td>\n",
       "      <td>277</td>\n",
       "      <td>12</td>\n",
       "      <td>1841</td>\n",
       "      <td>4.33</td>\n",
       "      <td>Before Handashing</td>\n",
       "    </tr>\n",
       "    <tr>\n",
       "      <th>3</th>\n",
       "      <td>1841-04-01</td>\n",
       "      <td>255</td>\n",
       "      <td>4</td>\n",
       "      <td>1841</td>\n",
       "      <td>1.57</td>\n",
       "      <td>Before Handashing</td>\n",
       "    </tr>\n",
       "    <tr>\n",
       "      <th>4</th>\n",
       "      <td>1841-05-01</td>\n",
       "      <td>255</td>\n",
       "      <td>2</td>\n",
       "      <td>1841</td>\n",
       "      <td>0.78</td>\n",
       "      <td>Before Handashing</td>\n",
       "    </tr>\n",
       "  </tbody>\n",
       "</table>\n",
       "</div>"
      ],
      "text/plain": [
       "        date  births  deaths  year  pct_deaths             before\n",
       "0 1841-01-01     254      37  1841       14.57  Before Handashing\n",
       "1 1841-02-01     239      18  1841        7.53  Before Handashing\n",
       "2 1841-03-01     277      12  1841        4.33  Before Handashing\n",
       "3 1841-04-01     255       4  1841        1.57  Before Handashing\n",
       "4 1841-05-01     255       2  1841        0.78  Before Handashing"
      ]
     },
     "execution_count": 156,
     "metadata": {},
     "output_type": "execute_result"
    }
   ],
   "source": [
    "df_monthly[\"before\"] = df_monthly['date'].apply(lambda x : \"Before Handashing\" if x<handwashing_start else \"After Handwashing\")\n",
    "df_monthly.head()"
   ]
  },
  {
   "cell_type": "code",
   "execution_count": 159,
   "metadata": {
    "id": "mgRoUP7NIMU9"
   },
   "outputs": [
    {
     "data": {
      "application/vnd.plotly.v1+json": {
       "config": {
        "plotlyServerURL": "https://plot.ly"
       },
       "data": [
        {
         "alignmentgroup": "True",
         "bingroup": "x",
         "hovertemplate": "before=Before Handashing<br>pct_deaths=%{x}<br>count=%{y}<extra></extra>",
         "legendgroup": "Before Handashing",
         "marker": {
          "color": "#636efa",
          "pattern": {
           "shape": ""
          }
         },
         "name": "Before Handashing",
         "nbinsx": 20,
         "offsetgroup": "Before Handashing",
         "orientation": "v",
         "showlegend": true,
         "type": "histogram",
         "x": [
          14.566929133858268,
          7.531380753138075,
          4.332129963898917,
          1.5686274509803921,
          0.7843137254901961,
          5,
          8.421052631578947,
          1.3513513513513513,
          1.8779342723004695,
          11.016949152542374,
          22.5531914893617,
          20.846905537459282,
          12.218649517684888,
          10.227272727272727,
          10.743801652892563,
          3.225806451612903,
          6.593406593406593,
          20.77922077922078,
          25.462962962962962,
          18.385650224215247,
          29.33884297520661,
          22.966507177033492,
          31.380753138075313,
          19.11764705882353,
          15.96958174904943,
          12.406015037593985,
          11.929824561403509,
          6.097560975609756,
          4.081632653061225,
          0.5235602094240838,
          1.5544041450777202,
          2.262443438914027,
          17.6,
          7.142857142857143,
          8.05084745762712,
          15.163934426229508,
          11.284046692607005,
          17.028985507246375,
          17.307692307692307,
          5.833333333333333,
          2.6785714285714284,
          4.368932038834951,
          6.319702602230484,
          1.2244897959183674,
          3.225806451612903,
          11.020408163265307,
          10.546875,
          7.590759075907591,
          4.744525547445256,
          4.4520547945205475,
          4.230769230769231,
          4.391891891891892,
          7.142857142857143,
          6.122448979591836,
          3.585657370517928,
          10.548523206751055,
          14.840989399293287,
          10.943396226415095,
          10.486891385767791,
          13.392857142857142,
          18.088737201365188,
          15.434083601286174,
          18.972332015810277,
          13.442622950819672,
          10.150375939849624,
          13.095238095238095,
          18.055555555555557,
          14.391143911439114,
          14.960629921259843,
          10.774410774410775,
          5.369127516778524,
          3.215434083601286,
          1.9230769230769231,
          3.6065573770491803,
          18.26923076923077,
          12.244897959183673
         ],
         "xaxis": "x",
         "yaxis": "y"
        },
        {
         "alignmentgroup": "True",
         "boxpoints": "all",
         "fillcolor": "rgba(255,255,255,0)",
         "hoveron": "points",
         "hovertemplate": "before=Before Handashing<br>pct_deaths=%{x}<extra></extra>",
         "jitter": 0,
         "legendgroup": "Before Handashing",
         "line": {
          "color": "rgba(255,255,255,0)"
         },
         "marker": {
          "color": "#636efa",
          "symbol": "line-ns-open"
         },
         "name": "Before Handashing",
         "offsetgroup": "Before Handashing",
         "showlegend": false,
         "type": "box",
         "x": [
          14.566929133858268,
          7.531380753138075,
          4.332129963898917,
          1.5686274509803921,
          0.7843137254901961,
          5,
          8.421052631578947,
          1.3513513513513513,
          1.8779342723004695,
          11.016949152542374,
          22.5531914893617,
          20.846905537459282,
          12.218649517684888,
          10.227272727272727,
          10.743801652892563,
          3.225806451612903,
          6.593406593406593,
          20.77922077922078,
          25.462962962962962,
          18.385650224215247,
          29.33884297520661,
          22.966507177033492,
          31.380753138075313,
          19.11764705882353,
          15.96958174904943,
          12.406015037593985,
          11.929824561403509,
          6.097560975609756,
          4.081632653061225,
          0.5235602094240838,
          1.5544041450777202,
          2.262443438914027,
          17.6,
          7.142857142857143,
          8.05084745762712,
          15.163934426229508,
          11.284046692607005,
          17.028985507246375,
          17.307692307692307,
          5.833333333333333,
          2.6785714285714284,
          4.368932038834951,
          6.319702602230484,
          1.2244897959183674,
          3.225806451612903,
          11.020408163265307,
          10.546875,
          7.590759075907591,
          4.744525547445256,
          4.4520547945205475,
          4.230769230769231,
          4.391891891891892,
          7.142857142857143,
          6.122448979591836,
          3.585657370517928,
          10.548523206751055,
          14.840989399293287,
          10.943396226415095,
          10.486891385767791,
          13.392857142857142,
          18.088737201365188,
          15.434083601286174,
          18.972332015810277,
          13.442622950819672,
          10.150375939849624,
          13.095238095238095,
          18.055555555555557,
          14.391143911439114,
          14.960629921259843,
          10.774410774410775,
          5.369127516778524,
          3.215434083601286,
          1.9230769230769231,
          3.6065573770491803,
          18.26923076923077,
          12.244897959183673
         ],
         "xaxis": "x2",
         "yaxis": "y2"
        },
        {
         "alignmentgroup": "True",
         "bingroup": "x",
         "hovertemplate": "before=After Handwashing<br>pct_deaths=%{x}<br>count=%{y}<extra></extra>",
         "legendgroup": "After Handwashing",
         "marker": {
          "color": "#EF553B",
          "pattern": {
           "shape": ""
          }
         },
         "name": "After Handwashing",
         "nbinsx": 20,
         "offsetgroup": "After Handwashing",
         "orientation": "v",
         "showlegend": true,
         "type": "histogram",
         "x": [
          2.2388059701492535,
          1.2,
          1.893939393939394,
          4.580152671755725,
          3.9568345323741005,
          4.471544715447155,
          2.93040293040293,
          3.5335689045936394,
          0.6872852233676976,
          0,
          0.6557377049180327,
          0.9584664536741214,
          1.1363636363636365,
          0.37174721189591076,
          0,
          0.9615384615384616,
          2.3411371237458196,
          2.903225806451613,
          1.3404825737265416,
          2.2332506203473947,
          3.0848329048843186,
          4.926108374384237
         ],
         "xaxis": "x",
         "yaxis": "y"
        },
        {
         "alignmentgroup": "True",
         "boxpoints": "all",
         "fillcolor": "rgba(255,255,255,0)",
         "hoveron": "points",
         "hovertemplate": "before=After Handwashing<br>pct_deaths=%{x}<extra></extra>",
         "jitter": 0,
         "legendgroup": "After Handwashing",
         "line": {
          "color": "rgba(255,255,255,0)"
         },
         "marker": {
          "color": "#EF553B",
          "symbol": "line-ns-open"
         },
         "name": "After Handwashing",
         "offsetgroup": "After Handwashing",
         "showlegend": false,
         "type": "box",
         "x": [
          2.2388059701492535,
          1.2,
          1.893939393939394,
          4.580152671755725,
          3.9568345323741005,
          4.471544715447155,
          2.93040293040293,
          3.5335689045936394,
          0.6872852233676976,
          0,
          0.6557377049180327,
          0.9584664536741214,
          1.1363636363636365,
          0.37174721189591076,
          0,
          0.9615384615384616,
          2.3411371237458196,
          2.903225806451613,
          1.3404825737265416,
          2.2332506203473947,
          3.0848329048843186,
          4.926108374384237
         ],
         "xaxis": "x2",
         "yaxis": "y2"
        }
       ],
       "layout": {
        "barmode": "relative",
        "legend": {
         "title": {
          "text": "before"
         },
         "tracegroupgap": 0
        },
        "margin": {
         "t": 60
        },
        "template": {
         "data": {
          "bar": [
           {
            "error_x": {
             "color": "#2a3f5f"
            },
            "error_y": {
             "color": "#2a3f5f"
            },
            "marker": {
             "line": {
              "color": "#E5ECF6",
              "width": 0.5
             },
             "pattern": {
              "fillmode": "overlay",
              "size": 10,
              "solidity": 0.2
             }
            },
            "type": "bar"
           }
          ],
          "barpolar": [
           {
            "marker": {
             "line": {
              "color": "#E5ECF6",
              "width": 0.5
             },
             "pattern": {
              "fillmode": "overlay",
              "size": 10,
              "solidity": 0.2
             }
            },
            "type": "barpolar"
           }
          ],
          "carpet": [
           {
            "aaxis": {
             "endlinecolor": "#2a3f5f",
             "gridcolor": "white",
             "linecolor": "white",
             "minorgridcolor": "white",
             "startlinecolor": "#2a3f5f"
            },
            "baxis": {
             "endlinecolor": "#2a3f5f",
             "gridcolor": "white",
             "linecolor": "white",
             "minorgridcolor": "white",
             "startlinecolor": "#2a3f5f"
            },
            "type": "carpet"
           }
          ],
          "choropleth": [
           {
            "colorbar": {
             "outlinewidth": 0,
             "ticks": ""
            },
            "type": "choropleth"
           }
          ],
          "contour": [
           {
            "colorbar": {
             "outlinewidth": 0,
             "ticks": ""
            },
            "colorscale": [
             [
              0,
              "#0d0887"
             ],
             [
              0.1111111111111111,
              "#46039f"
             ],
             [
              0.2222222222222222,
              "#7201a8"
             ],
             [
              0.3333333333333333,
              "#9c179e"
             ],
             [
              0.4444444444444444,
              "#bd3786"
             ],
             [
              0.5555555555555556,
              "#d8576b"
             ],
             [
              0.6666666666666666,
              "#ed7953"
             ],
             [
              0.7777777777777778,
              "#fb9f3a"
             ],
             [
              0.8888888888888888,
              "#fdca26"
             ],
             [
              1,
              "#f0f921"
             ]
            ],
            "type": "contour"
           }
          ],
          "contourcarpet": [
           {
            "colorbar": {
             "outlinewidth": 0,
             "ticks": ""
            },
            "type": "contourcarpet"
           }
          ],
          "heatmap": [
           {
            "colorbar": {
             "outlinewidth": 0,
             "ticks": ""
            },
            "colorscale": [
             [
              0,
              "#0d0887"
             ],
             [
              0.1111111111111111,
              "#46039f"
             ],
             [
              0.2222222222222222,
              "#7201a8"
             ],
             [
              0.3333333333333333,
              "#9c179e"
             ],
             [
              0.4444444444444444,
              "#bd3786"
             ],
             [
              0.5555555555555556,
              "#d8576b"
             ],
             [
              0.6666666666666666,
              "#ed7953"
             ],
             [
              0.7777777777777778,
              "#fb9f3a"
             ],
             [
              0.8888888888888888,
              "#fdca26"
             ],
             [
              1,
              "#f0f921"
             ]
            ],
            "type": "heatmap"
           }
          ],
          "heatmapgl": [
           {
            "colorbar": {
             "outlinewidth": 0,
             "ticks": ""
            },
            "colorscale": [
             [
              0,
              "#0d0887"
             ],
             [
              0.1111111111111111,
              "#46039f"
             ],
             [
              0.2222222222222222,
              "#7201a8"
             ],
             [
              0.3333333333333333,
              "#9c179e"
             ],
             [
              0.4444444444444444,
              "#bd3786"
             ],
             [
              0.5555555555555556,
              "#d8576b"
             ],
             [
              0.6666666666666666,
              "#ed7953"
             ],
             [
              0.7777777777777778,
              "#fb9f3a"
             ],
             [
              0.8888888888888888,
              "#fdca26"
             ],
             [
              1,
              "#f0f921"
             ]
            ],
            "type": "heatmapgl"
           }
          ],
          "histogram": [
           {
            "marker": {
             "pattern": {
              "fillmode": "overlay",
              "size": 10,
              "solidity": 0.2
             }
            },
            "type": "histogram"
           }
          ],
          "histogram2d": [
           {
            "colorbar": {
             "outlinewidth": 0,
             "ticks": ""
            },
            "colorscale": [
             [
              0,
              "#0d0887"
             ],
             [
              0.1111111111111111,
              "#46039f"
             ],
             [
              0.2222222222222222,
              "#7201a8"
             ],
             [
              0.3333333333333333,
              "#9c179e"
             ],
             [
              0.4444444444444444,
              "#bd3786"
             ],
             [
              0.5555555555555556,
              "#d8576b"
             ],
             [
              0.6666666666666666,
              "#ed7953"
             ],
             [
              0.7777777777777778,
              "#fb9f3a"
             ],
             [
              0.8888888888888888,
              "#fdca26"
             ],
             [
              1,
              "#f0f921"
             ]
            ],
            "type": "histogram2d"
           }
          ],
          "histogram2dcontour": [
           {
            "colorbar": {
             "outlinewidth": 0,
             "ticks": ""
            },
            "colorscale": [
             [
              0,
              "#0d0887"
             ],
             [
              0.1111111111111111,
              "#46039f"
             ],
             [
              0.2222222222222222,
              "#7201a8"
             ],
             [
              0.3333333333333333,
              "#9c179e"
             ],
             [
              0.4444444444444444,
              "#bd3786"
             ],
             [
              0.5555555555555556,
              "#d8576b"
             ],
             [
              0.6666666666666666,
              "#ed7953"
             ],
             [
              0.7777777777777778,
              "#fb9f3a"
             ],
             [
              0.8888888888888888,
              "#fdca26"
             ],
             [
              1,
              "#f0f921"
             ]
            ],
            "type": "histogram2dcontour"
           }
          ],
          "mesh3d": [
           {
            "colorbar": {
             "outlinewidth": 0,
             "ticks": ""
            },
            "type": "mesh3d"
           }
          ],
          "parcoords": [
           {
            "line": {
             "colorbar": {
              "outlinewidth": 0,
              "ticks": ""
             }
            },
            "type": "parcoords"
           }
          ],
          "pie": [
           {
            "automargin": true,
            "type": "pie"
           }
          ],
          "scatter": [
           {
            "marker": {
             "colorbar": {
              "outlinewidth": 0,
              "ticks": ""
             }
            },
            "type": "scatter"
           }
          ],
          "scatter3d": [
           {
            "line": {
             "colorbar": {
              "outlinewidth": 0,
              "ticks": ""
             }
            },
            "marker": {
             "colorbar": {
              "outlinewidth": 0,
              "ticks": ""
             }
            },
            "type": "scatter3d"
           }
          ],
          "scattercarpet": [
           {
            "marker": {
             "colorbar": {
              "outlinewidth": 0,
              "ticks": ""
             }
            },
            "type": "scattercarpet"
           }
          ],
          "scattergeo": [
           {
            "marker": {
             "colorbar": {
              "outlinewidth": 0,
              "ticks": ""
             }
            },
            "type": "scattergeo"
           }
          ],
          "scattergl": [
           {
            "marker": {
             "colorbar": {
              "outlinewidth": 0,
              "ticks": ""
             }
            },
            "type": "scattergl"
           }
          ],
          "scattermapbox": [
           {
            "marker": {
             "colorbar": {
              "outlinewidth": 0,
              "ticks": ""
             }
            },
            "type": "scattermapbox"
           }
          ],
          "scatterpolar": [
           {
            "marker": {
             "colorbar": {
              "outlinewidth": 0,
              "ticks": ""
             }
            },
            "type": "scatterpolar"
           }
          ],
          "scatterpolargl": [
           {
            "marker": {
             "colorbar": {
              "outlinewidth": 0,
              "ticks": ""
             }
            },
            "type": "scatterpolargl"
           }
          ],
          "scatterternary": [
           {
            "marker": {
             "colorbar": {
              "outlinewidth": 0,
              "ticks": ""
             }
            },
            "type": "scatterternary"
           }
          ],
          "surface": [
           {
            "colorbar": {
             "outlinewidth": 0,
             "ticks": ""
            },
            "colorscale": [
             [
              0,
              "#0d0887"
             ],
             [
              0.1111111111111111,
              "#46039f"
             ],
             [
              0.2222222222222222,
              "#7201a8"
             ],
             [
              0.3333333333333333,
              "#9c179e"
             ],
             [
              0.4444444444444444,
              "#bd3786"
             ],
             [
              0.5555555555555556,
              "#d8576b"
             ],
             [
              0.6666666666666666,
              "#ed7953"
             ],
             [
              0.7777777777777778,
              "#fb9f3a"
             ],
             [
              0.8888888888888888,
              "#fdca26"
             ],
             [
              1,
              "#f0f921"
             ]
            ],
            "type": "surface"
           }
          ],
          "table": [
           {
            "cells": {
             "fill": {
              "color": "#EBF0F8"
             },
             "line": {
              "color": "white"
             }
            },
            "header": {
             "fill": {
              "color": "#C8D4E3"
             },
             "line": {
              "color": "white"
             }
            },
            "type": "table"
           }
          ]
         },
         "layout": {
          "annotationdefaults": {
           "arrowcolor": "#2a3f5f",
           "arrowhead": 0,
           "arrowwidth": 1
          },
          "autotypenumbers": "strict",
          "coloraxis": {
           "colorbar": {
            "outlinewidth": 0,
            "ticks": ""
           }
          },
          "colorscale": {
           "diverging": [
            [
             0,
             "#8e0152"
            ],
            [
             0.1,
             "#c51b7d"
            ],
            [
             0.2,
             "#de77ae"
            ],
            [
             0.3,
             "#f1b6da"
            ],
            [
             0.4,
             "#fde0ef"
            ],
            [
             0.5,
             "#f7f7f7"
            ],
            [
             0.6,
             "#e6f5d0"
            ],
            [
             0.7,
             "#b8e186"
            ],
            [
             0.8,
             "#7fbc41"
            ],
            [
             0.9,
             "#4d9221"
            ],
            [
             1,
             "#276419"
            ]
           ],
           "sequential": [
            [
             0,
             "#0d0887"
            ],
            [
             0.1111111111111111,
             "#46039f"
            ],
            [
             0.2222222222222222,
             "#7201a8"
            ],
            [
             0.3333333333333333,
             "#9c179e"
            ],
            [
             0.4444444444444444,
             "#bd3786"
            ],
            [
             0.5555555555555556,
             "#d8576b"
            ],
            [
             0.6666666666666666,
             "#ed7953"
            ],
            [
             0.7777777777777778,
             "#fb9f3a"
            ],
            [
             0.8888888888888888,
             "#fdca26"
            ],
            [
             1,
             "#f0f921"
            ]
           ],
           "sequentialminus": [
            [
             0,
             "#0d0887"
            ],
            [
             0.1111111111111111,
             "#46039f"
            ],
            [
             0.2222222222222222,
             "#7201a8"
            ],
            [
             0.3333333333333333,
             "#9c179e"
            ],
            [
             0.4444444444444444,
             "#bd3786"
            ],
            [
             0.5555555555555556,
             "#d8576b"
            ],
            [
             0.6666666666666666,
             "#ed7953"
            ],
            [
             0.7777777777777778,
             "#fb9f3a"
            ],
            [
             0.8888888888888888,
             "#fdca26"
            ],
            [
             1,
             "#f0f921"
            ]
           ]
          },
          "colorway": [
           "#636efa",
           "#EF553B",
           "#00cc96",
           "#ab63fa",
           "#FFA15A",
           "#19d3f3",
           "#FF6692",
           "#B6E880",
           "#FF97FF",
           "#FECB52"
          ],
          "font": {
           "color": "#2a3f5f"
          },
          "geo": {
           "bgcolor": "white",
           "lakecolor": "white",
           "landcolor": "#E5ECF6",
           "showlakes": true,
           "showland": true,
           "subunitcolor": "white"
          },
          "hoverlabel": {
           "align": "left"
          },
          "hovermode": "closest",
          "mapbox": {
           "style": "light"
          },
          "paper_bgcolor": "white",
          "plot_bgcolor": "#E5ECF6",
          "polar": {
           "angularaxis": {
            "gridcolor": "white",
            "linecolor": "white",
            "ticks": ""
           },
           "bgcolor": "#E5ECF6",
           "radialaxis": {
            "gridcolor": "white",
            "linecolor": "white",
            "ticks": ""
           }
          },
          "scene": {
           "xaxis": {
            "backgroundcolor": "#E5ECF6",
            "gridcolor": "white",
            "gridwidth": 2,
            "linecolor": "white",
            "showbackground": true,
            "ticks": "",
            "zerolinecolor": "white"
           },
           "yaxis": {
            "backgroundcolor": "#E5ECF6",
            "gridcolor": "white",
            "gridwidth": 2,
            "linecolor": "white",
            "showbackground": true,
            "ticks": "",
            "zerolinecolor": "white"
           },
           "zaxis": {
            "backgroundcolor": "#E5ECF6",
            "gridcolor": "white",
            "gridwidth": 2,
            "linecolor": "white",
            "showbackground": true,
            "ticks": "",
            "zerolinecolor": "white"
           }
          },
          "shapedefaults": {
           "line": {
            "color": "#2a3f5f"
           }
          },
          "ternary": {
           "aaxis": {
            "gridcolor": "white",
            "linecolor": "white",
            "ticks": ""
           },
           "baxis": {
            "gridcolor": "white",
            "linecolor": "white",
            "ticks": ""
           },
           "bgcolor": "#E5ECF6",
           "caxis": {
            "gridcolor": "white",
            "linecolor": "white",
            "ticks": ""
           }
          },
          "title": {
           "x": 0.05
          },
          "xaxis": {
           "automargin": true,
           "gridcolor": "white",
           "linecolor": "white",
           "ticks": "",
           "title": {
            "standoff": 15
           },
           "zerolinecolor": "white",
           "zerolinewidth": 2
          },
          "yaxis": {
           "automargin": true,
           "gridcolor": "white",
           "linecolor": "white",
           "ticks": "",
           "title": {
            "standoff": 15
           },
           "zerolinecolor": "white",
           "zerolinewidth": 2
          }
         }
        },
        "xaxis": {
         "anchor": "y",
         "domain": [
          0,
          1
         ],
         "title": {
          "text": "pct_deaths"
         }
        },
        "xaxis2": {
         "anchor": "y2",
         "domain": [
          0,
          1
         ],
         "matches": "x",
         "showgrid": true,
         "showticklabels": false
        },
        "yaxis": {
         "anchor": "x",
         "domain": [
          0,
          0.7326
         ],
         "title": {
          "text": "count"
         }
        },
        "yaxis2": {
         "anchor": "x2",
         "domain": [
          0.7426,
          1
         ],
         "matches": "y2",
         "showgrid": false,
         "showline": false,
         "showticklabels": false,
         "ticks": ""
        }
       }
      },
      "text/html": [
       "<div>                            <div id=\"68d30703-9fe2-49f1-86cb-5bc043a1ab88\" class=\"plotly-graph-div\" style=\"height:525px; width:100%;\"></div>            <script type=\"text/javascript\">                require([\"plotly\"], function(Plotly) {                    window.PLOTLYENV=window.PLOTLYENV || {};                                    if (document.getElementById(\"68d30703-9fe2-49f1-86cb-5bc043a1ab88\")) {                    Plotly.newPlot(                        \"68d30703-9fe2-49f1-86cb-5bc043a1ab88\",                        [{\"alignmentgroup\":\"True\",\"bingroup\":\"x\",\"hovertemplate\":\"before=Before Handashing<br>pct_deaths=%{x}<br>count=%{y}<extra></extra>\",\"legendgroup\":\"Before Handashing\",\"marker\":{\"color\":\"#636efa\",\"pattern\":{\"shape\":\"\"}},\"name\":\"Before Handashing\",\"nbinsx\":20,\"offsetgroup\":\"Before Handashing\",\"orientation\":\"v\",\"showlegend\":true,\"x\":[14.566929133858268,7.531380753138075,4.332129963898917,1.5686274509803921,0.7843137254901961,5.0,8.421052631578947,1.3513513513513513,1.8779342723004695,11.016949152542374,22.5531914893617,20.846905537459282,12.218649517684888,10.227272727272727,10.743801652892563,3.225806451612903,6.593406593406593,20.77922077922078,25.462962962962962,18.385650224215247,29.33884297520661,22.966507177033492,31.380753138075313,19.11764705882353,15.96958174904943,12.406015037593985,11.929824561403509,6.097560975609756,4.081632653061225,0.5235602094240838,1.5544041450777202,2.262443438914027,17.6,7.142857142857143,8.05084745762712,15.163934426229508,11.284046692607005,17.028985507246375,17.307692307692307,5.833333333333333,2.6785714285714284,4.368932038834951,6.319702602230484,1.2244897959183674,3.225806451612903,11.020408163265307,10.546875,7.590759075907591,4.744525547445256,4.4520547945205475,4.230769230769231,4.391891891891892,7.142857142857143,6.122448979591836,3.585657370517928,10.548523206751055,14.840989399293287,10.943396226415095,10.486891385767791,13.392857142857142,18.088737201365188,15.434083601286174,18.972332015810277,13.442622950819672,10.150375939849624,13.095238095238095,18.055555555555557,14.391143911439114,14.960629921259843,10.774410774410775,5.369127516778524,3.215434083601286,1.9230769230769231,3.6065573770491803,18.26923076923077,12.244897959183673],\"xaxis\":\"x\",\"yaxis\":\"y\",\"type\":\"histogram\"},{\"alignmentgroup\":\"True\",\"boxpoints\":\"all\",\"fillcolor\":\"rgba(255,255,255,0)\",\"hoveron\":\"points\",\"hovertemplate\":\"before=Before Handashing<br>pct_deaths=%{x}<extra></extra>\",\"jitter\":0,\"legendgroup\":\"Before Handashing\",\"line\":{\"color\":\"rgba(255,255,255,0)\"},\"marker\":{\"color\":\"#636efa\",\"symbol\":\"line-ns-open\"},\"name\":\"Before Handashing\",\"offsetgroup\":\"Before Handashing\",\"showlegend\":false,\"x\":[14.566929133858268,7.531380753138075,4.332129963898917,1.5686274509803921,0.7843137254901961,5.0,8.421052631578947,1.3513513513513513,1.8779342723004695,11.016949152542374,22.5531914893617,20.846905537459282,12.218649517684888,10.227272727272727,10.743801652892563,3.225806451612903,6.593406593406593,20.77922077922078,25.462962962962962,18.385650224215247,29.33884297520661,22.966507177033492,31.380753138075313,19.11764705882353,15.96958174904943,12.406015037593985,11.929824561403509,6.097560975609756,4.081632653061225,0.5235602094240838,1.5544041450777202,2.262443438914027,17.6,7.142857142857143,8.05084745762712,15.163934426229508,11.284046692607005,17.028985507246375,17.307692307692307,5.833333333333333,2.6785714285714284,4.368932038834951,6.319702602230484,1.2244897959183674,3.225806451612903,11.020408163265307,10.546875,7.590759075907591,4.744525547445256,4.4520547945205475,4.230769230769231,4.391891891891892,7.142857142857143,6.122448979591836,3.585657370517928,10.548523206751055,14.840989399293287,10.943396226415095,10.486891385767791,13.392857142857142,18.088737201365188,15.434083601286174,18.972332015810277,13.442622950819672,10.150375939849624,13.095238095238095,18.055555555555557,14.391143911439114,14.960629921259843,10.774410774410775,5.369127516778524,3.215434083601286,1.9230769230769231,3.6065573770491803,18.26923076923077,12.244897959183673],\"xaxis\":\"x2\",\"yaxis\":\"y2\",\"type\":\"box\"},{\"alignmentgroup\":\"True\",\"bingroup\":\"x\",\"hovertemplate\":\"before=After Handwashing<br>pct_deaths=%{x}<br>count=%{y}<extra></extra>\",\"legendgroup\":\"After Handwashing\",\"marker\":{\"color\":\"#EF553B\",\"pattern\":{\"shape\":\"\"}},\"name\":\"After Handwashing\",\"nbinsx\":20,\"offsetgroup\":\"After Handwashing\",\"orientation\":\"v\",\"showlegend\":true,\"x\":[2.2388059701492535,1.2,1.893939393939394,4.580152671755725,3.9568345323741005,4.471544715447155,2.93040293040293,3.5335689045936394,0.6872852233676976,0.0,0.6557377049180327,0.9584664536741214,1.1363636363636365,0.37174721189591076,0.0,0.9615384615384616,2.3411371237458196,2.903225806451613,1.3404825737265416,2.2332506203473947,3.0848329048843186,4.926108374384237],\"xaxis\":\"x\",\"yaxis\":\"y\",\"type\":\"histogram\"},{\"alignmentgroup\":\"True\",\"boxpoints\":\"all\",\"fillcolor\":\"rgba(255,255,255,0)\",\"hoveron\":\"points\",\"hovertemplate\":\"before=After Handwashing<br>pct_deaths=%{x}<extra></extra>\",\"jitter\":0,\"legendgroup\":\"After Handwashing\",\"line\":{\"color\":\"rgba(255,255,255,0)\"},\"marker\":{\"color\":\"#EF553B\",\"symbol\":\"line-ns-open\"},\"name\":\"After Handwashing\",\"offsetgroup\":\"After Handwashing\",\"showlegend\":false,\"x\":[2.2388059701492535,1.2,1.893939393939394,4.580152671755725,3.9568345323741005,4.471544715447155,2.93040293040293,3.5335689045936394,0.6872852233676976,0.0,0.6557377049180327,0.9584664536741214,1.1363636363636365,0.37174721189591076,0.0,0.9615384615384616,2.3411371237458196,2.903225806451613,1.3404825737265416,2.2332506203473947,3.0848329048843186,4.926108374384237],\"xaxis\":\"x2\",\"yaxis\":\"y2\",\"type\":\"box\"}],                        {\"template\":{\"data\":{\"bar\":[{\"error_x\":{\"color\":\"#2a3f5f\"},\"error_y\":{\"color\":\"#2a3f5f\"},\"marker\":{\"line\":{\"color\":\"#E5ECF6\",\"width\":0.5},\"pattern\":{\"fillmode\":\"overlay\",\"size\":10,\"solidity\":0.2}},\"type\":\"bar\"}],\"barpolar\":[{\"marker\":{\"line\":{\"color\":\"#E5ECF6\",\"width\":0.5},\"pattern\":{\"fillmode\":\"overlay\",\"size\":10,\"solidity\":0.2}},\"type\":\"barpolar\"}],\"carpet\":[{\"aaxis\":{\"endlinecolor\":\"#2a3f5f\",\"gridcolor\":\"white\",\"linecolor\":\"white\",\"minorgridcolor\":\"white\",\"startlinecolor\":\"#2a3f5f\"},\"baxis\":{\"endlinecolor\":\"#2a3f5f\",\"gridcolor\":\"white\",\"linecolor\":\"white\",\"minorgridcolor\":\"white\",\"startlinecolor\":\"#2a3f5f\"},\"type\":\"carpet\"}],\"choropleth\":[{\"colorbar\":{\"outlinewidth\":0,\"ticks\":\"\"},\"type\":\"choropleth\"}],\"contour\":[{\"colorbar\":{\"outlinewidth\":0,\"ticks\":\"\"},\"colorscale\":[[0.0,\"#0d0887\"],[0.1111111111111111,\"#46039f\"],[0.2222222222222222,\"#7201a8\"],[0.3333333333333333,\"#9c179e\"],[0.4444444444444444,\"#bd3786\"],[0.5555555555555556,\"#d8576b\"],[0.6666666666666666,\"#ed7953\"],[0.7777777777777778,\"#fb9f3a\"],[0.8888888888888888,\"#fdca26\"],[1.0,\"#f0f921\"]],\"type\":\"contour\"}],\"contourcarpet\":[{\"colorbar\":{\"outlinewidth\":0,\"ticks\":\"\"},\"type\":\"contourcarpet\"}],\"heatmap\":[{\"colorbar\":{\"outlinewidth\":0,\"ticks\":\"\"},\"colorscale\":[[0.0,\"#0d0887\"],[0.1111111111111111,\"#46039f\"],[0.2222222222222222,\"#7201a8\"],[0.3333333333333333,\"#9c179e\"],[0.4444444444444444,\"#bd3786\"],[0.5555555555555556,\"#d8576b\"],[0.6666666666666666,\"#ed7953\"],[0.7777777777777778,\"#fb9f3a\"],[0.8888888888888888,\"#fdca26\"],[1.0,\"#f0f921\"]],\"type\":\"heatmap\"}],\"heatmapgl\":[{\"colorbar\":{\"outlinewidth\":0,\"ticks\":\"\"},\"colorscale\":[[0.0,\"#0d0887\"],[0.1111111111111111,\"#46039f\"],[0.2222222222222222,\"#7201a8\"],[0.3333333333333333,\"#9c179e\"],[0.4444444444444444,\"#bd3786\"],[0.5555555555555556,\"#d8576b\"],[0.6666666666666666,\"#ed7953\"],[0.7777777777777778,\"#fb9f3a\"],[0.8888888888888888,\"#fdca26\"],[1.0,\"#f0f921\"]],\"type\":\"heatmapgl\"}],\"histogram\":[{\"marker\":{\"pattern\":{\"fillmode\":\"overlay\",\"size\":10,\"solidity\":0.2}},\"type\":\"histogram\"}],\"histogram2d\":[{\"colorbar\":{\"outlinewidth\":0,\"ticks\":\"\"},\"colorscale\":[[0.0,\"#0d0887\"],[0.1111111111111111,\"#46039f\"],[0.2222222222222222,\"#7201a8\"],[0.3333333333333333,\"#9c179e\"],[0.4444444444444444,\"#bd3786\"],[0.5555555555555556,\"#d8576b\"],[0.6666666666666666,\"#ed7953\"],[0.7777777777777778,\"#fb9f3a\"],[0.8888888888888888,\"#fdca26\"],[1.0,\"#f0f921\"]],\"type\":\"histogram2d\"}],\"histogram2dcontour\":[{\"colorbar\":{\"outlinewidth\":0,\"ticks\":\"\"},\"colorscale\":[[0.0,\"#0d0887\"],[0.1111111111111111,\"#46039f\"],[0.2222222222222222,\"#7201a8\"],[0.3333333333333333,\"#9c179e\"],[0.4444444444444444,\"#bd3786\"],[0.5555555555555556,\"#d8576b\"],[0.6666666666666666,\"#ed7953\"],[0.7777777777777778,\"#fb9f3a\"],[0.8888888888888888,\"#fdca26\"],[1.0,\"#f0f921\"]],\"type\":\"histogram2dcontour\"}],\"mesh3d\":[{\"colorbar\":{\"outlinewidth\":0,\"ticks\":\"\"},\"type\":\"mesh3d\"}],\"parcoords\":[{\"line\":{\"colorbar\":{\"outlinewidth\":0,\"ticks\":\"\"}},\"type\":\"parcoords\"}],\"pie\":[{\"automargin\":true,\"type\":\"pie\"}],\"scatter\":[{\"marker\":{\"colorbar\":{\"outlinewidth\":0,\"ticks\":\"\"}},\"type\":\"scatter\"}],\"scatter3d\":[{\"line\":{\"colorbar\":{\"outlinewidth\":0,\"ticks\":\"\"}},\"marker\":{\"colorbar\":{\"outlinewidth\":0,\"ticks\":\"\"}},\"type\":\"scatter3d\"}],\"scattercarpet\":[{\"marker\":{\"colorbar\":{\"outlinewidth\":0,\"ticks\":\"\"}},\"type\":\"scattercarpet\"}],\"scattergeo\":[{\"marker\":{\"colorbar\":{\"outlinewidth\":0,\"ticks\":\"\"}},\"type\":\"scattergeo\"}],\"scattergl\":[{\"marker\":{\"colorbar\":{\"outlinewidth\":0,\"ticks\":\"\"}},\"type\":\"scattergl\"}],\"scattermapbox\":[{\"marker\":{\"colorbar\":{\"outlinewidth\":0,\"ticks\":\"\"}},\"type\":\"scattermapbox\"}],\"scatterpolar\":[{\"marker\":{\"colorbar\":{\"outlinewidth\":0,\"ticks\":\"\"}},\"type\":\"scatterpolar\"}],\"scatterpolargl\":[{\"marker\":{\"colorbar\":{\"outlinewidth\":0,\"ticks\":\"\"}},\"type\":\"scatterpolargl\"}],\"scatterternary\":[{\"marker\":{\"colorbar\":{\"outlinewidth\":0,\"ticks\":\"\"}},\"type\":\"scatterternary\"}],\"surface\":[{\"colorbar\":{\"outlinewidth\":0,\"ticks\":\"\"},\"colorscale\":[[0.0,\"#0d0887\"],[0.1111111111111111,\"#46039f\"],[0.2222222222222222,\"#7201a8\"],[0.3333333333333333,\"#9c179e\"],[0.4444444444444444,\"#bd3786\"],[0.5555555555555556,\"#d8576b\"],[0.6666666666666666,\"#ed7953\"],[0.7777777777777778,\"#fb9f3a\"],[0.8888888888888888,\"#fdca26\"],[1.0,\"#f0f921\"]],\"type\":\"surface\"}],\"table\":[{\"cells\":{\"fill\":{\"color\":\"#EBF0F8\"},\"line\":{\"color\":\"white\"}},\"header\":{\"fill\":{\"color\":\"#C8D4E3\"},\"line\":{\"color\":\"white\"}},\"type\":\"table\"}]},\"layout\":{\"annotationdefaults\":{\"arrowcolor\":\"#2a3f5f\",\"arrowhead\":0,\"arrowwidth\":1},\"autotypenumbers\":\"strict\",\"coloraxis\":{\"colorbar\":{\"outlinewidth\":0,\"ticks\":\"\"}},\"colorscale\":{\"diverging\":[[0,\"#8e0152\"],[0.1,\"#c51b7d\"],[0.2,\"#de77ae\"],[0.3,\"#f1b6da\"],[0.4,\"#fde0ef\"],[0.5,\"#f7f7f7\"],[0.6,\"#e6f5d0\"],[0.7,\"#b8e186\"],[0.8,\"#7fbc41\"],[0.9,\"#4d9221\"],[1,\"#276419\"]],\"sequential\":[[0.0,\"#0d0887\"],[0.1111111111111111,\"#46039f\"],[0.2222222222222222,\"#7201a8\"],[0.3333333333333333,\"#9c179e\"],[0.4444444444444444,\"#bd3786\"],[0.5555555555555556,\"#d8576b\"],[0.6666666666666666,\"#ed7953\"],[0.7777777777777778,\"#fb9f3a\"],[0.8888888888888888,\"#fdca26\"],[1.0,\"#f0f921\"]],\"sequentialminus\":[[0.0,\"#0d0887\"],[0.1111111111111111,\"#46039f\"],[0.2222222222222222,\"#7201a8\"],[0.3333333333333333,\"#9c179e\"],[0.4444444444444444,\"#bd3786\"],[0.5555555555555556,\"#d8576b\"],[0.6666666666666666,\"#ed7953\"],[0.7777777777777778,\"#fb9f3a\"],[0.8888888888888888,\"#fdca26\"],[1.0,\"#f0f921\"]]},\"colorway\":[\"#636efa\",\"#EF553B\",\"#00cc96\",\"#ab63fa\",\"#FFA15A\",\"#19d3f3\",\"#FF6692\",\"#B6E880\",\"#FF97FF\",\"#FECB52\"],\"font\":{\"color\":\"#2a3f5f\"},\"geo\":{\"bgcolor\":\"white\",\"lakecolor\":\"white\",\"landcolor\":\"#E5ECF6\",\"showlakes\":true,\"showland\":true,\"subunitcolor\":\"white\"},\"hoverlabel\":{\"align\":\"left\"},\"hovermode\":\"closest\",\"mapbox\":{\"style\":\"light\"},\"paper_bgcolor\":\"white\",\"plot_bgcolor\":\"#E5ECF6\",\"polar\":{\"angularaxis\":{\"gridcolor\":\"white\",\"linecolor\":\"white\",\"ticks\":\"\"},\"bgcolor\":\"#E5ECF6\",\"radialaxis\":{\"gridcolor\":\"white\",\"linecolor\":\"white\",\"ticks\":\"\"}},\"scene\":{\"xaxis\":{\"backgroundcolor\":\"#E5ECF6\",\"gridcolor\":\"white\",\"gridwidth\":2,\"linecolor\":\"white\",\"showbackground\":true,\"ticks\":\"\",\"zerolinecolor\":\"white\"},\"yaxis\":{\"backgroundcolor\":\"#E5ECF6\",\"gridcolor\":\"white\",\"gridwidth\":2,\"linecolor\":\"white\",\"showbackground\":true,\"ticks\":\"\",\"zerolinecolor\":\"white\"},\"zaxis\":{\"backgroundcolor\":\"#E5ECF6\",\"gridcolor\":\"white\",\"gridwidth\":2,\"linecolor\":\"white\",\"showbackground\":true,\"ticks\":\"\",\"zerolinecolor\":\"white\"}},\"shapedefaults\":{\"line\":{\"color\":\"#2a3f5f\"}},\"ternary\":{\"aaxis\":{\"gridcolor\":\"white\",\"linecolor\":\"white\",\"ticks\":\"\"},\"baxis\":{\"gridcolor\":\"white\",\"linecolor\":\"white\",\"ticks\":\"\"},\"bgcolor\":\"#E5ECF6\",\"caxis\":{\"gridcolor\":\"white\",\"linecolor\":\"white\",\"ticks\":\"\"}},\"title\":{\"x\":0.05},\"xaxis\":{\"automargin\":true,\"gridcolor\":\"white\",\"linecolor\":\"white\",\"ticks\":\"\",\"title\":{\"standoff\":15},\"zerolinecolor\":\"white\",\"zerolinewidth\":2},\"yaxis\":{\"automargin\":true,\"gridcolor\":\"white\",\"linecolor\":\"white\",\"ticks\":\"\",\"title\":{\"standoff\":15},\"zerolinecolor\":\"white\",\"zerolinewidth\":2}}},\"xaxis\":{\"anchor\":\"y\",\"domain\":[0.0,1.0],\"title\":{\"text\":\"pct_deaths\"}},\"yaxis\":{\"anchor\":\"x\",\"domain\":[0.0,0.7326],\"title\":{\"text\":\"count\"}},\"xaxis2\":{\"anchor\":\"y2\",\"domain\":[0.0,1.0],\"matches\":\"x\",\"showticklabels\":false,\"showgrid\":true},\"yaxis2\":{\"anchor\":\"x2\",\"domain\":[0.7426,1.0],\"matches\":\"y2\",\"showticklabels\":false,\"showline\":false,\"ticks\":\"\",\"showgrid\":false},\"legend\":{\"title\":{\"text\":\"before\"},\"tracegroupgap\":0},\"margin\":{\"t\":60},\"barmode\":\"relative\"},                        {\"responsive\": true}                    ).then(function(){\n",
       "                            \n",
       "var gd = document.getElementById('68d30703-9fe2-49f1-86cb-5bc043a1ab88');\n",
       "var x = new MutationObserver(function (mutations, observer) {{\n",
       "        var display = window.getComputedStyle(gd).display;\n",
       "        if (!display || display === 'none') {{\n",
       "            console.log([gd, 'removed!']);\n",
       "            Plotly.purge(gd);\n",
       "            observer.disconnect();\n",
       "        }}\n",
       "}});\n",
       "\n",
       "// Listen for the removal of the full notebook cells\n",
       "var notebookContainer = gd.closest('#notebook-container');\n",
       "if (notebookContainer) {{\n",
       "    x.observe(notebookContainer, {childList: true});\n",
       "}}\n",
       "\n",
       "// Listen for the clearing of the current output cell\n",
       "var outputEl = gd.closest('.output');\n",
       "if (outputEl) {{\n",
       "    x.observe(outputEl, {childList: true});\n",
       "}}\n",
       "\n",
       "                        })                };                });            </script>        </div>"
      ]
     },
     "metadata": {},
     "output_type": "display_data"
    }
   ],
   "source": [
    "import plotly.express as px\n",
    "fig = px.histogram(df_monthly, x=\"pct_deaths\", nbins=20,color= \"before\", marginal=\"rug\")\n",
    "fig.show()"
   ]
  },
  {
   "cell_type": "markdown",
   "metadata": {
    "id": "6xEmXJWM63ep"
   },
   "source": [
    "### Use a Kernel Density Estimate (KDE) to visualise a smooth distribution\n",
    "\n",
    "**Challenge**: Use [Seaborn's `.kdeplot()`](https://seaborn.pydata.org/generated/seaborn.kdeplot.html) to create two kernel density estimates of the `pct_deaths`, one for before handwashing and one for after. \n",
    "\n",
    "* Use the `shade` parameter to give your two distributions different colours. \n",
    "* What weakness in the chart do you see when you just use the default parameters?\n",
    "* Use the `clip` parameter to address the problem. \n"
   ]
  },
  {
   "cell_type": "code",
   "execution_count": 160,
   "metadata": {
    "id": "MKxD_c_cINxx"
   },
   "outputs": [
    {
     "data": {
      "text/plain": [
       "<AxesSubplot:xlabel='pct_deaths', ylabel='Density'>"
      ]
     },
     "execution_count": 160,
     "metadata": {},
     "output_type": "execute_result"
    },
    {
     "data": {
      "image/png": "[encoded data removed]",
      "text/plain": [
       "<Figure size 432x288 with 1 Axes>"
      ]
     },
     "metadata": {
      "needs_background": "light"
     },
     "output_type": "display_data"
    }
   ],
   "source": [
    "sns.kdeplot(data=df_monthly, x=\"pct_deaths\", hue=\"before\", multiple=\"stack\")"
   ]
  },
  {
   "cell_type": "markdown",
   "metadata": {
    "id": "F7lNXT7X63et"
   },
   "source": [
    "### Use a T-Test to Show Statistical Significance\n",
    "\n",
    "**Challenge**: Use a t-test to determine if the differences in the means are statistically significant or purely due to chance. \n",
    "\n",
    "If the p-value is less than 1% then we can be 99% certain that handwashing has made a difference to the average monthly death rate. \n",
    "\n",
    "* Import `stats` from scipy\n",
    "* Use the [`.ttest_ind()` function](https://docs.scipy.org/]doc/scipy/reference/generated/scipy.stats.ttest_ind.html) to calculate the t-statistic and the p-value\n",
    "* Is the difference in the average proportion of monthly deaths statistically significant at the 99% level? \n",
    "\n"
   ]
  },
  {
   "cell_type": "code",
   "execution_count": 161,
   "metadata": {
    "id": "3gG5RDz_IQLJ"
   },
   "outputs": [],
   "source": [
    "from scipy import stats"
   ]
  },
  {
   "cell_type": "code",
   "execution_count": 164,
   "metadata": {},
   "outputs": [],
   "source": [
    "df_monthly['before_1'] = df_monthly.before.apply(lambda x : 1 if x == \"before\" else 0)"
   ]
  },
  {
   "cell_type": "code",
   "execution_count": 166,
   "metadata": {
    "id": "KQbDwe_GIP_G"
   },
   "outputs": [
    {
     "data": {
      "text/plain": [
       "8.049331787478402e-25"
      ]
     },
     "execution_count": 166,
     "metadata": {},
     "output_type": "execute_result"
    }
   ],
   "source": [
    "stats.ttest_ind(df_monthly.pct_deaths,df_monthly.before_1).pvalue"
   ]
  },
  {
   "cell_type": "markdown",
   "metadata": {
    "id": "ljuC4qkz6BbA"
   },
   "source": [
    "What do you conclude from your analysis, Doctor? 😊\n",
    "\n",
    "<img src=https://i.imgur.com/rvjNVzQ.gif>"
   ]
  },
  {
   "cell_type": "code",
   "execution_count": 162,
   "metadata": {
    "id": "3qNGdccG6D34"
   },
   "outputs": [
    {
     "name": "stdout",
     "output_type": "stream",
     "text": [
      "Wash your hands\n"
     ]
    }
   ],
   "source": [
    "print(\"Wash your hands\")"
   ]
  }
 ],
 "metadata": {
  "colab": {
   "name": "Dr Semmelweis Handwashing Discovery (start).ipynb",
   "provenance": [],
   "toc_visible": true
  },
  "kernelspec": {
   "display_name": "Python 3 (ipykernel)",
   "language": "python",
   "name": "python3"
  },
  "language_info": {
   "codemirror_mode": {
    "name": "ipython",
    "version": 3
   },
   "file_extension": ".py",
   "mimetype": "text/x-python",
   "name": "python",
   "nbconvert_exporter": "python",
   "pygments_lexer": "ipython3",
   "version": "3.9.12"
  }
 },
 "nbformat": 4,
 "nbformat_minor": 1
}
